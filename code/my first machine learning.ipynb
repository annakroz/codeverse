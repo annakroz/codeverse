{
 "cells": [
  {
   "cell_type": "markdown",
   "metadata": {},
   "source": [
    "# This is our Python playground\n",
    "\n"
   ]
  },
  {
   "cell_type": "code",
   "execution_count": 1,
   "metadata": {},
   "outputs": [
    {
     "name": "stdout",
     "output_type": "stream",
     "text": [
      "NumPy version: 1.23.5\n",
      "Matplotlib version: 3.6.2\n",
      "Scikit-learn version: 1.0.2\n",
      "PyTorch version: 1.12.1\n"
     ]
    }
   ],
   "source": [
    "import numpy\n",
    "import matplotlib\n",
    "import sklearn\n",
    "import torch\n",
    "\n",
    "print(\"NumPy version:\", numpy.__version__)\n",
    "print(\"Matplotlib version:\", matplotlib.__version__)\n",
    "print(\"Scikit-learn version:\", sklearn.__version__)\n",
    "print(\"PyTorch version:\", torch.__version__)\n"
   ]
  },
  {
   "cell_type": "markdown",
   "metadata": {},
   "source": [
    "Will output tutrtle to separate window"
   ]
  },
  {
   "cell_type": "code",
   "execution_count": 2,
   "metadata": {},
   "outputs": [],
   "source": [
    "import turtle\n",
    "\n",
    "t = turtle.Turtle()\n",
    "t.forward(100)\n",
    "t.right(90)\n",
    "t.forward(100)\n"
   ]
  },
  {
   "cell_type": "markdown",
   "metadata": {},
   "source": []
  },
  {
   "cell_type": "code",
   "execution_count": 5,
   "metadata": {},
   "outputs": [
    {
     "ename": "TclError",
     "evalue": "invalid command name \".!canvas\"",
     "output_type": "error",
     "traceback": [
      "\u001B[0;31m---------------------------------------------------------------------------\u001B[0m",
      "\u001B[0;31mTclError\u001B[0m                                  Traceback (most recent call last)",
      "Cell \u001B[0;32mIn[5], line 1\u001B[0m\n\u001B[0;32m----> 1\u001B[0m \u001B[43mt\u001B[49m\u001B[38;5;241;43m.\u001B[39;49m\u001B[43mforward\u001B[49m\u001B[43m(\u001B[49m\u001B[38;5;241;43m100\u001B[39;49m\u001B[43m)\u001B[49m\n",
      "File \u001B[0;32m~/miniconda3/envs/p3.10-ml-class/lib/python3.10/turtle.py:1637\u001B[0m, in \u001B[0;36mTNavigator.forward\u001B[0;34m(self, distance)\u001B[0m\n\u001B[1;32m   1616\u001B[0m \u001B[38;5;28;01mdef\u001B[39;00m \u001B[38;5;21mforward\u001B[39m(\u001B[38;5;28mself\u001B[39m, distance):\n\u001B[1;32m   1617\u001B[0m     \u001B[38;5;124;03m\"\"\"Move the turtle forward by the specified distance.\u001B[39;00m\n\u001B[1;32m   1618\u001B[0m \n\u001B[1;32m   1619\u001B[0m \u001B[38;5;124;03m    Aliases: forward | fd\u001B[39;00m\n\u001B[0;32m   (...)\u001B[0m\n\u001B[1;32m   1635\u001B[0m \u001B[38;5;124;03m    (-50.00,0.00)\u001B[39;00m\n\u001B[1;32m   1636\u001B[0m \u001B[38;5;124;03m    \"\"\"\u001B[39;00m\n\u001B[0;32m-> 1637\u001B[0m     \u001B[38;5;28;43mself\u001B[39;49m\u001B[38;5;241;43m.\u001B[39;49m\u001B[43m_go\u001B[49m\u001B[43m(\u001B[49m\u001B[43mdistance\u001B[49m\u001B[43m)\u001B[49m\n",
      "File \u001B[0;32m~/miniconda3/envs/p3.10-ml-class/lib/python3.10/turtle.py:1605\u001B[0m, in \u001B[0;36mTNavigator._go\u001B[0;34m(self, distance)\u001B[0m\n\u001B[1;32m   1603\u001B[0m \u001B[38;5;124;03m\"\"\"move turtle forward by specified distance\"\"\"\u001B[39;00m\n\u001B[1;32m   1604\u001B[0m ende \u001B[38;5;241m=\u001B[39m \u001B[38;5;28mself\u001B[39m\u001B[38;5;241m.\u001B[39m_position \u001B[38;5;241m+\u001B[39m \u001B[38;5;28mself\u001B[39m\u001B[38;5;241m.\u001B[39m_orient \u001B[38;5;241m*\u001B[39m distance\n\u001B[0;32m-> 1605\u001B[0m \u001B[38;5;28;43mself\u001B[39;49m\u001B[38;5;241;43m.\u001B[39;49m\u001B[43m_goto\u001B[49m\u001B[43m(\u001B[49m\u001B[43mende\u001B[49m\u001B[43m)\u001B[49m\n",
      "File \u001B[0;32m~/miniconda3/envs/p3.10-ml-class/lib/python3.10/turtle.py:3159\u001B[0m, in \u001B[0;36mRawTurtle._goto\u001B[0;34m(self, end)\u001B[0m\n\u001B[1;32m   3151\u001B[0m go_modes \u001B[38;5;241m=\u001B[39m ( \u001B[38;5;28mself\u001B[39m\u001B[38;5;241m.\u001B[39m_drawing,\n\u001B[1;32m   3152\u001B[0m              \u001B[38;5;28mself\u001B[39m\u001B[38;5;241m.\u001B[39m_pencolor,\n\u001B[1;32m   3153\u001B[0m              \u001B[38;5;28mself\u001B[39m\u001B[38;5;241m.\u001B[39m_pensize,\n\u001B[1;32m   3154\u001B[0m              \u001B[38;5;28misinstance\u001B[39m(\u001B[38;5;28mself\u001B[39m\u001B[38;5;241m.\u001B[39m_fillpath, \u001B[38;5;28mlist\u001B[39m))\n\u001B[1;32m   3155\u001B[0m screen \u001B[38;5;241m=\u001B[39m \u001B[38;5;28mself\u001B[39m\u001B[38;5;241m.\u001B[39mscreen\n\u001B[1;32m   3156\u001B[0m undo_entry \u001B[38;5;241m=\u001B[39m (\u001B[38;5;124m\"\u001B[39m\u001B[38;5;124mgo\u001B[39m\u001B[38;5;124m\"\u001B[39m, \u001B[38;5;28mself\u001B[39m\u001B[38;5;241m.\u001B[39m_position, end, go_modes,\n\u001B[1;32m   3157\u001B[0m               (\u001B[38;5;28mself\u001B[39m\u001B[38;5;241m.\u001B[39mcurrentLineItem,\n\u001B[1;32m   3158\u001B[0m               \u001B[38;5;28mself\u001B[39m\u001B[38;5;241m.\u001B[39mcurrentLine[:],\n\u001B[0;32m-> 3159\u001B[0m               \u001B[43mscreen\u001B[49m\u001B[38;5;241;43m.\u001B[39;49m\u001B[43m_pointlist\u001B[49m\u001B[43m(\u001B[49m\u001B[38;5;28;43mself\u001B[39;49m\u001B[38;5;241;43m.\u001B[39;49m\u001B[43mcurrentLineItem\u001B[49m\u001B[43m)\u001B[49m,\n\u001B[1;32m   3160\u001B[0m               \u001B[38;5;28mself\u001B[39m\u001B[38;5;241m.\u001B[39mitems[:])\n\u001B[1;32m   3161\u001B[0m               )\n\u001B[1;32m   3162\u001B[0m \u001B[38;5;28;01mif\u001B[39;00m \u001B[38;5;28mself\u001B[39m\u001B[38;5;241m.\u001B[39mundobuffer:\n\u001B[1;32m   3163\u001B[0m     \u001B[38;5;28mself\u001B[39m\u001B[38;5;241m.\u001B[39mundobuffer\u001B[38;5;241m.\u001B[39mpush(undo_entry)\n",
      "File \u001B[0;32m~/miniconda3/envs/p3.10-ml-class/lib/python3.10/turtle.py:753\u001B[0m, in \u001B[0;36mTurtleScreenBase._pointlist\u001B[0;34m(self, item)\u001B[0m\n\u001B[1;32m    745\u001B[0m \u001B[38;5;28;01mdef\u001B[39;00m \u001B[38;5;21m_pointlist\u001B[39m(\u001B[38;5;28mself\u001B[39m, item):\n\u001B[1;32m    746\u001B[0m     \u001B[38;5;124;03m\"\"\"returns list of coordinate-pairs of points of item\u001B[39;00m\n\u001B[1;32m    747\u001B[0m \u001B[38;5;124;03m    Example (for insiders):\u001B[39;00m\n\u001B[1;32m    748\u001B[0m \u001B[38;5;124;03m    >>> from turtle import *\u001B[39;00m\n\u001B[0;32m   (...)\u001B[0m\n\u001B[1;32m    751\u001B[0m \u001B[38;5;124;03m    (9.9999999999999982, 0.0)]\u001B[39;00m\n\u001B[1;32m    752\u001B[0m \u001B[38;5;124;03m    >>> \"\"\"\u001B[39;00m\n\u001B[0;32m--> 753\u001B[0m     cl \u001B[38;5;241m=\u001B[39m \u001B[38;5;28;43mself\u001B[39;49m\u001B[38;5;241;43m.\u001B[39;49m\u001B[43mcv\u001B[49m\u001B[38;5;241;43m.\u001B[39;49m\u001B[43mcoords\u001B[49m\u001B[43m(\u001B[49m\u001B[43mitem\u001B[49m\u001B[43m)\u001B[49m\n\u001B[1;32m    754\u001B[0m     pl \u001B[38;5;241m=\u001B[39m [(cl[i], \u001B[38;5;241m-\u001B[39mcl[i\u001B[38;5;241m+\u001B[39m\u001B[38;5;241m1\u001B[39m]) \u001B[38;5;28;01mfor\u001B[39;00m i \u001B[38;5;129;01min\u001B[39;00m \u001B[38;5;28mrange\u001B[39m(\u001B[38;5;241m0\u001B[39m, \u001B[38;5;28mlen\u001B[39m(cl), \u001B[38;5;241m2\u001B[39m)]\n\u001B[1;32m    755\u001B[0m     \u001B[38;5;28;01mreturn\u001B[39;00m  pl\n",
      "File \u001B[0;32m<string>:1\u001B[0m, in \u001B[0;36mcoords\u001B[0;34m(self, *args, **kw)\u001B[0m\n",
      "File \u001B[0;32m~/miniconda3/envs/p3.10-ml-class/lib/python3.10/tkinter/__init__.py:2795\u001B[0m, in \u001B[0;36mCanvas.coords\u001B[0;34m(self, *args)\u001B[0m\n\u001B[1;32m   2791\u001B[0m \u001B[38;5;124;03m\"\"\"Return a list of coordinates for the item given in ARGS.\"\"\"\u001B[39;00m\n\u001B[1;32m   2792\u001B[0m \u001B[38;5;66;03m# XXX Should use _flatten on args\u001B[39;00m\n\u001B[1;32m   2793\u001B[0m \u001B[38;5;28;01mreturn\u001B[39;00m [\u001B[38;5;28mself\u001B[39m\u001B[38;5;241m.\u001B[39mtk\u001B[38;5;241m.\u001B[39mgetdouble(x) \u001B[38;5;28;01mfor\u001B[39;00m x \u001B[38;5;129;01min\u001B[39;00m\n\u001B[1;32m   2794\u001B[0m                    \u001B[38;5;28mself\u001B[39m\u001B[38;5;241m.\u001B[39mtk\u001B[38;5;241m.\u001B[39msplitlist(\n\u001B[0;32m-> 2795\u001B[0m            \u001B[38;5;28;43mself\u001B[39;49m\u001B[38;5;241;43m.\u001B[39;49m\u001B[43mtk\u001B[49m\u001B[38;5;241;43m.\u001B[39;49m\u001B[43mcall\u001B[49m\u001B[43m(\u001B[49m\u001B[43m(\u001B[49m\u001B[38;5;28;43mself\u001B[39;49m\u001B[38;5;241;43m.\u001B[39;49m\u001B[43m_w\u001B[49m\u001B[43m,\u001B[49m\u001B[43m \u001B[49m\u001B[38;5;124;43m'\u001B[39;49m\u001B[38;5;124;43mcoords\u001B[39;49m\u001B[38;5;124;43m'\u001B[39;49m\u001B[43m)\u001B[49m\u001B[43m \u001B[49m\u001B[38;5;241;43m+\u001B[39;49m\u001B[43m \u001B[49m\u001B[43margs\u001B[49m\u001B[43m)\u001B[49m)]\n",
      "\u001B[0;31mTclError\u001B[0m: invalid command name \".!canvas\""
     ]
    }
   ],
   "source": [
    "t.forward(100)\n",
    "\n"
   ]
  }
 ],
 "metadata": {
  "kernelspec": {
   "display_name": "Python 3 (ipykernel)",
   "language": "python",
   "name": "python3"
  },
  "language_info": {
   "codemirror_mode": {
    "name": "ipython",
    "version": 3
   },
   "file_extension": ".py",
   "mimetype": "text/x-python",
   "name": "python",
   "nbconvert_exporter": "python",
   "pygments_lexer": "ipython3",
   "version": "3.10.9"
  },
  "toc": {
   "base_numbering": 1,
   "nav_menu": {
    "height": "231px",
    "width": "194px"
   },
   "number_sections": false,
   "sideBar": true,
   "skip_h1_title": false,
   "title_cell": "Table of Contents",
   "title_sidebar": "Contents",
   "toc_cell": false,
   "toc_position": {
    "height": "1065px",
    "left": "20.2px",
    "top": "111.133px",
    "width": "159.333px"
   },
   "toc_section_display": true,
   "toc_window_display": true
  }
 },
 "nbformat": 4,
 "nbformat_minor": 1
}
