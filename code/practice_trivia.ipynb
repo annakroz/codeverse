{
 "cells": [
  {
   "cell_type": "code",
   "execution_count": 236,
   "metadata": {
    "collapsed": true,
    "ExecuteTime": {
     "start_time": "2023-04-04T20:05:52.700163Z",
     "end_time": "2023-04-04T20:05:52.718521Z"
    }
   },
   "outputs": [],
   "source": [
    "import random\n",
    "\n",
    "random_integer = random.randint(1, 10)"
   ]
  },
  {
   "cell_type": "code",
   "execution_count": 237,
   "outputs": [
    {
     "name": "stdout",
     "output_type": "stream",
     "text": [
      "You guessed 1\n"
     ]
    }
   ],
   "source": [
    "guess = 1\n",
    "\n",
    "while (guess != random_integer):\n",
    "    print(f\"You tried {guess}, but didn't guess\")\n",
    "    guess += 1\n",
    "    if (guess == random_integer):\n",
    "        break\n",
    "\n",
    "print(f'You guessed {guess}')\n"
   ],
   "metadata": {
    "collapsed": false,
    "ExecuteTime": {
     "start_time": "2023-04-04T20:05:59.212388Z",
     "end_time": "2023-04-04T20:05:59.230385Z"
    }
   }
  },
  {
   "cell_type": "code",
   "execution_count": 238,
   "outputs": [
    {
     "data": {
      "text/plain": "1"
     },
     "execution_count": 238,
     "metadata": {},
     "output_type": "execute_result"
    }
   ],
   "source": [
    "random_integer"
   ],
   "metadata": {
    "collapsed": false,
    "ExecuteTime": {
     "start_time": "2023-04-04T20:06:05.260143Z",
     "end_time": "2023-04-04T20:06:05.278146Z"
    }
   }
  },
  {
   "cell_type": "code",
   "execution_count": null,
   "outputs": [],
   "source": [],
   "metadata": {
    "collapsed": false
   }
  }
 ],
 "metadata": {
  "kernelspec": {
   "display_name": "Python 3",
   "language": "python",
   "name": "python3"
  },
  "language_info": {
   "codemirror_mode": {
    "name": "ipython",
    "version": 2
   },
   "file_extension": ".py",
   "mimetype": "text/x-python",
   "name": "python",
   "nbconvert_exporter": "python",
   "pygments_lexer": "ipython2",
   "version": "2.7.6"
  }
 },
 "nbformat": 4,
 "nbformat_minor": 0
}
