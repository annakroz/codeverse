{
 "cells": [
  {
   "cell_type": "code",
   "execution_count": 1,
   "metadata": {
    "ExecuteTime": {
     "start_time": "2023-04-11T12:34:26.613463Z",
     "end_time": "2023-04-11T12:34:26.623968Z"
    }
   },
   "outputs": [
    {
     "data": {
      "text/plain": "4"
     },
     "execution_count": 1,
     "metadata": {},
     "output_type": "execute_result"
    }
   ],
   "source": [
    "2+2\n"
   ]
  },
  {
   "cell_type": "code",
   "execution_count": 2,
   "metadata": {
    "ExecuteTime": {
     "start_time": "2023-04-11T12:34:26.622637Z",
     "end_time": "2023-04-11T12:34:26.711289Z"
    }
   },
   "outputs": [],
   "source": [
    "import requests\n",
    "import json\n",
    "import random\n"
   ]
  },
  {
   "cell_type": "code",
   "execution_count": 3,
   "outputs": [],
   "source": [
    "def fetch_trivia_questions(amount=10):\n",
    "    api_url = \"https://opentdb.com/api.php?amount=10\"\n",
    "    response = requests.get(api_url)\n",
    "    if response.status_code == 200:\n",
    "        data = response.json()\n",
    "        return data['results']\n",
    "    else:\n",
    "        print(\"Error: Could not fetch trivia questions\")\n",
    "        return []\n"
   ],
   "metadata": {
    "collapsed": false,
    "ExecuteTime": {
     "start_time": "2023-04-11T12:34:26.715343Z",
     "end_time": "2023-04-11T12:34:26.719332Z"
    }
   }
  },
  {
   "cell_type": "code",
   "execution_count": 4,
   "outputs": [
    {
     "name": "stdout",
     "output_type": "stream",
     "text": [
      "Question 1: The very first recorded computer &quot;bug&quot; was a moth found inside a Harvard Mark II computer.\n",
      "Question 2: Which video game earned music composer Mike Morasky the most awards for his work?\n",
      "Question 3: What is the German word for &quot;spoon&quot;?\n",
      "Question 4: The term &quot;Spam&quot; came before the food product &quot;Spam&quot;.\n",
      "Question 5: What is the alphanumeric representation of the imaginary number?\n",
      "Question 6: The French word for &quot;glass&quot; is &quot;glace&quot;.\n",
      "Question 7: Which RAID array type is associated with data mirroring?\n",
      "Question 8: What programming language was used to create the game &quot;Minecraft&quot;?\n",
      "Question 9: Several characters in &quot;Super Mario 64&quot; blink their eyes, including Mario himself.\n",
      "Question 10: Which major extinction event was caused by an asteroid collision and eliminated the majority of non-avian dinosaurs?\n"
     ]
    }
   ],
   "source": [
    "questions = fetch_trivia_questions()\n",
    "for idx, question in enumerate(questions):\n",
    "    print(f\"Question {idx + 1}: {question['question']}\")\n"
   ],
   "metadata": {
    "collapsed": false,
    "ExecuteTime": {
     "start_time": "2023-04-11T12:34:26.723021Z",
     "end_time": "2023-04-11T12:34:27.099612Z"
    }
   }
  },
  {
   "cell_type": "code",
   "execution_count": 5,
   "outputs": [
    {
     "data": {
      "text/plain": "0.8802923412466823"
     },
     "execution_count": 5,
     "metadata": {},
     "output_type": "execute_result"
    }
   ],
   "source": [
    "import random\n",
    "\n",
    "\n",
    "random_float = random.random()\n",
    "random_float\n"
   ],
   "metadata": {
    "collapsed": false,
    "ExecuteTime": {
     "start_time": "2023-04-11T12:34:27.099089Z",
     "end_time": "2023-04-11T12:34:27.103446Z"
    }
   }
  },
  {
   "cell_type": "code",
   "execution_count": 6,
   "outputs": [
    {
     "data": {
      "text/plain": "1"
     },
     "execution_count": 6,
     "metadata": {},
     "output_type": "execute_result"
    }
   ],
   "source": [
    "random_integer = random.randint(1, 10)\n",
    "random_integer\n"
   ],
   "metadata": {
    "collapsed": false,
    "ExecuteTime": {
     "start_time": "2023-04-11T12:34:27.103319Z",
     "end_time": "2023-04-11T12:34:27.110815Z"
    }
   }
  },
  {
   "cell_type": "code",
   "execution_count": 7,
   "outputs": [
    {
     "data": {
      "text/plain": "'date'"
     },
     "execution_count": 7,
     "metadata": {},
     "output_type": "execute_result"
    }
   ],
   "source": [
    "my_list = ['apple', 'banana', 'cherry', 'date']\n",
    "random_element = random.choice(my_list)\n",
    "random_element\n"
   ],
   "metadata": {
    "collapsed": false,
    "ExecuteTime": {
     "start_time": "2023-04-11T12:34:27.108931Z",
     "end_time": "2023-04-11T12:34:27.116502Z"
    }
   }
  },
  {
   "cell_type": "code",
   "execution_count": 8,
   "outputs": [
    {
     "data": {
      "text/plain": "['banana', 'date', 'cherry', 'apple']"
     },
     "execution_count": 8,
     "metadata": {},
     "output_type": "execute_result"
    }
   ],
   "source": [
    "random.shuffle(my_list)\n",
    "my_list\n"
   ],
   "metadata": {
    "collapsed": false,
    "ExecuteTime": {
     "start_time": "2023-04-11T12:34:27.115461Z",
     "end_time": "2023-04-11T12:34:27.195332Z"
    }
   }
  },
  {
   "cell_type": "code",
   "execution_count": 9,
   "outputs": [],
   "source": [
    "def display_random_question():\n",
    "    questions = fetch_trivia_questions()\n",
    "    question = random.choice(questions)\n",
    "\n",
    "    print(f\"Category: {question['category']}\")\n",
    "    print(f\"Difficulty: {question['difficulty']}\")\n",
    "    print(f\"Question: {question['question']}\")\n"
   ],
   "metadata": {
    "collapsed": false,
    "ExecuteTime": {
     "start_time": "2023-04-11T12:37:23.467784Z",
     "end_time": "2023-04-11T12:37:23.506944Z"
    }
   }
  },
  {
   "cell_type": "code",
   "execution_count": 10,
   "outputs": [
    {
     "name": "stdout",
     "output_type": "stream",
     "text": [
      "Category: Science & Nature\n",
      "Difficulty: hard\n",
      "Question: What is the molecular formula of Glucose?\n"
     ]
    }
   ],
   "source": [
    "display_random_question()\n"
   ],
   "metadata": {
    "collapsed": false,
    "ExecuteTime": {
     "start_time": "2023-04-11T12:37:38.527675Z",
     "end_time": "2023-04-11T12:37:38.867724Z"
    }
   }
  },
  {
   "cell_type": "code",
   "execution_count": null,
   "outputs": [],
   "source": [
    "def display_random_question():\n",
    "    questions = fetch_trivia_questions()\n",
    "    question = random.choice(questions)\n",
    "\n",
    "    print(f\"Category: {question['category']}\")\n",
    "    print(f\"Difficulty: {question['difficulty']}\")\n",
    "    print(f\"Question: {question['question']}\")\n"
   ],
   "metadata": {
    "collapsed": false
   }
  },
  {
   "cell_type": "code",
   "execution_count": 11,
   "outputs": [],
   "source": [
    "def display_question(question_data):\n",
    "    print(f\"Category: {question_data['category']}\")\n",
    "    print(f\"Difficulty: {question_data['difficulty']}\")\n",
    "    print(f\"Question: {question_data['question']}\")\n",
    "    if question_data['type'] == 'boolean':\n",
    "        print(\"1. True\")\n",
    "        print(\"2. False\")\n",
    "    else:\n",
    "        for idx, answer in enumerate(question_data['incorrect_answers']):\n",
    "          print(f\"{idx + 1}. {answer}\")\n",
    "        print(f\"{len(question_data['incorrect_answers']) + 1}. {question_data['correct_answer']}\")\n"
   ],
   "metadata": {
    "collapsed": false,
    "ExecuteTime": {
     "start_time": "2023-04-11T12:44:08.627120Z",
     "end_time": "2023-04-11T12:44:08.641725Z"
    }
   }
  },
  {
   "cell_type": "code",
   "execution_count": 13,
   "outputs": [
    {
     "name": "stdout",
     "output_type": "stream",
     "text": [
      "Category: Entertainment: Music\n",
      "Difficulty: medium\n",
      "Question: Norwegian producer Kygo released a remix of the song &quot;Sexual Healing&quot; by Marvin Gaye.\n",
      "1. True\n",
      "2. False\n"
     ]
    }
   ],
   "source": [
    "questions = fetch_trivia_questions()\n",
    "display_question(questions[0])\n"
   ],
   "metadata": {
    "collapsed": false,
    "ExecuteTime": {
     "start_time": "2023-04-11T12:44:22.500744Z",
     "end_time": "2023-04-11T12:44:22.928966Z"
    }
   }
  },
  {
   "cell_type": "code",
   "execution_count": 14,
   "outputs": [],
   "source": [
    "def get_user_answer(question_data):\n",
    "    answer_range = 2 if question_data['type'] == 'boolean' else len(question_data['incorrect_answers']) + 1\n",
    "    while True:\n",
    "        user_answer = input(\"Enter the number of your answer: \")\n",
    "        if user_answer.isdigit() and 1 <= int(user_answer) <= answer_range:\n",
    "            return int(user_answer)\n",
    "        else:\n",
    "            print(f\"Please enter a number between 1 and {answer_range}\")\n"
   ],
   "metadata": {
    "collapsed": false,
    "ExecuteTime": {
     "start_time": "2023-04-11T12:45:08.341316Z",
     "end_time": "2023-04-11T12:45:08.378645Z"
    }
   }
  },
  {
   "cell_type": "code",
   "execution_count": 15,
   "outputs": [
    {
     "name": "stdout",
     "output_type": "stream",
     "text": [
      "Category: Entertainment: Video Games\n",
      "Difficulty: easy\n",
      "Question: In &quot;Super Mario 3D World&quot;, the Double Cherry power-up originated from a developer accidentally making two characters controllable.\n",
      "1. True\n",
      "2. False\n",
      "Please enter a number between 1 and 2\n"
     ]
    },
    {
     "data": {
      "text/plain": "2"
     },
     "execution_count": 15,
     "metadata": {},
     "output_type": "execute_result"
    }
   ],
   "source": [
    "questions = fetch_trivia_questions()\n",
    "\n",
    "display_question(questions[0])\n",
    "\n",
    "get_user_answer(questions[0])\n"
   ],
   "metadata": {
    "collapsed": false,
    "ExecuteTime": {
     "start_time": "2023-04-11T12:45:21.711388Z",
     "end_time": "2023-04-11T12:45:41.373594Z"
    }
   }
  },
  {
   "cell_type": "code",
   "execution_count": null,
   "outputs": [],
   "source": [],
   "metadata": {
    "collapsed": false
   }
  }
 ],
 "metadata": {
  "kernelspec": {
   "display_name": "Python 3 (ipykernel)",
   "language": "python",
   "name": "python3"
  },
  "language_info": {
   "codemirror_mode": {
    "name": "ipython",
    "version": 3
   },
   "file_extension": ".py",
   "mimetype": "text/x-python",
   "name": "python",
   "nbconvert_exporter": "python",
   "pygments_lexer": "ipython3",
   "version": "3.8.16"
  },
  "toc": {
   "base_numbering": 1,
   "nav_menu": {},
   "number_sections": true,
   "sideBar": false,
   "skip_h1_title": false,
   "title_cell": "Table of Contents",
   "title_sidebar": "Contents",
   "toc_cell": false,
   "toc_position": {},
   "toc_section_display": true,
   "toc_window_display": false
  }
 },
 "nbformat": 4,
 "nbformat_minor": 1
}
