{
 "cells": [
  {
   "cell_type": "markdown",
   "metadata": {},
   "source": [
    "# This is our Python playground\n"
   ]
  },
  {
   "cell_type": "code",
   "execution_count": null,
   "metadata": {
    "pycharm": {
     "is_executing": true
    }
   },
   "outputs": [],
   "source": [
    "a = 2\n",
    "b = 4\n",
    "a + b\n"
   ]
  },
  {
   "cell_type": "markdown",
   "metadata": {},
   "source": [
    "Let's do our first brainteaser.\n",
    "Write a function `reverse` that would reverse input text and return it.\n",
    "E.g.\n",
    "```python\n",
    "reverse('eva')\n",
    "```\n",
    "will return\n",
    "```\n",
    "ave\n",
    "```\n",
    "\n",
    "or\n",
    "```python\n",
    "reverse('lesson')\n",
    "```\n",
    "will return\n",
    "```\n",
    "nossel\n",
    "```"
   ]
  },
  {
   "cell_type": "code",
   "execution_count": 1,
   "metadata": {},
   "outputs": [
    {
     "name": "stdout",
     "output_type": "stream",
     "text": [
      "olleh\n"
     ]
    }
   ],
   "source": [
    "# Define the original word\n",
    "word = \"hello\"\n",
    "\n",
    "# Reverse the order of the letters using string slicing\n",
    "reversed_word = word[::-1]\n",
    "\n",
    "# Print the reversed word\n",
    "print(reversed_word)\n",
    "\n"
   ]
  },
  {
   "cell_type": "markdown",
   "metadata": {},
   "source": [
    "\n",
    "try your own words to see what you get"
   ]
  },
  {
   "cell_type": "markdown",
   "source": [
    "# Hello Anna\n",
    "\n",
    "This text\n",
    "\n",
    "## This is header #2\n",
    "\n",
    " ;lk dlfkgj ds;lfkgj **dsl;kfgj dsf**"
   ],
   "metadata": {
    "collapsed": false
   }
  },
  {
   "cell_type": "code",
   "execution_count": 38,
   "outputs": [
    {
     "data": {
      "text/plain": "'z'"
     },
     "execution_count": 38,
     "metadata": {},
     "output_type": "execute_result"
    }
   ],
   "source": [
    "my_list = [\"x\", \"y\", \"z\", \"D\", \"E\"]\n",
    "my_list[2]\n",
    "\n"
   ],
   "metadata": {
    "collapsed": false
   }
  },
  {
   "cell_type": "code",
   "execution_count": 41,
   "outputs": [
    {
     "data": {
      "text/plain": "['x', 'y', 'z']"
     },
     "execution_count": 41,
     "metadata": {},
     "output_type": "execute_result"
    }
   ],
   "source": [
    "my_list[0:3]\n"
   ],
   "metadata": {
    "collapsed": false
   }
  },
  {
   "cell_type": "code",
   "execution_count": 58,
   "outputs": [
    {
     "name": "stdout",
     "output_type": "stream",
     "text": [
      "[1, 3, 2, 7, 9, 6]\n",
      "[2, 6, 4, 14, 18, 12]\n"
     ]
    }
   ],
   "source": [
    "nums = [1, 3, 2, 7, 9, 6]\n",
    "print(nums)\n",
    "nums2 = [x * 2 for x in nums]\n",
    "print(nums2)\n",
    "\n"
   ],
   "metadata": {
    "collapsed": false
   }
  },
  {
   "cell_type": "code",
   "execution_count": 59,
   "outputs": [
    {
     "name": "stdout",
     "output_type": "stream",
     "text": [
      "[3, 9, 6, 21, 27, 18]\n"
     ]
    }
   ],
   "source": [
    "\n",
    "nums3 = [x * 3 for x in nums]\n",
    "print(nums3)"
   ],
   "metadata": {
    "collapsed": false
   }
  }
 ],
 "metadata": {
  "kernelspec": {
   "display_name": "Python 3 (ipykernel)",
   "language": "python",
   "name": "python3"
  },
  "language_info": {
   "codemirror_mode": {
    "name": "ipython",
    "version": 3
   },
   "file_extension": ".py",
   "mimetype": "text/x-python",
   "name": "python",
   "nbconvert_exporter": "python",
   "pygments_lexer": "ipython3",
   "version": "3.10.9"
  },
  "toc": {
   "base_numbering": 1,
   "nav_menu": {
    "height": "231px",
    "width": "194px"
   },
   "number_sections": false,
   "sideBar": true,
   "skip_h1_title": false,
   "title_cell": "Table of Contents",
   "title_sidebar": "Contents",
   "toc_cell": false,
   "toc_position": {
    "height": "1065px",
    "left": "20.2px",
    "top": "111.133px",
    "width": "159.333px"
   },
   "toc_section_display": true,
   "toc_window_display": true
  }
 },
 "nbformat": 4,
 "nbformat_minor": 1
}
