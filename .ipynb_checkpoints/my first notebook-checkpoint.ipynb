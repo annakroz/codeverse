{
 "cells": [
  {
   "cell_type": "markdown",
   "metadata": {},
   "source": [
    "# This is our Python playground\n",
    "\n"
   ]
  },
  {
   "cell_type": "code",
   "execution_count": 2,
   "metadata": {},
   "outputs": [
    {
     "name": "stdout",
     "output_type": "stream",
     "text": [
      "NumPy version: 1.23.5\n",
      "Matplotlib version: 3.6.2\n",
      "Scikit-learn version: 1.0.2\n",
      "PyTorch version: 1.12.1\n"
     ]
    }
   ],
   "source": [
    "import numpy\n",
    "import matplotlib\n",
    "import sklearn\n",
    "import torch\n",
    "\n",
    "print(\"NumPy version:\", numpy.__version__)\n",
    "print(\"Matplotlib version:\", matplotlib.__version__)\n",
    "print(\"Scikit-learn version:\", sklearn.__version__)\n",
    "print(\"PyTorch version:\", torch.__version__)\n"
   ]
  },
  {
   "cell_type": "markdown",
   "metadata": {},
   "source": [
    "Will output tutrtle to separate window"
   ]
  },
  {
   "cell_type": "code",
   "execution_count": 4,
   "metadata": {},
   "outputs": [],
   "source": [
    "import turtle\n",
    "\n",
    "t = turtle.Turtle()\n",
    "t.forward(100)\n",
    "t.right(90)\n",
    "t.forward(100)\n"
   ]
  },
  {
   "cell_type": "markdown",
   "metadata": {},
   "source": [
    "`mobilechelonian` is broken library, don't use it"
   ]
  },
  {
   "cell_type": "code",
   "execution_count": 5,
   "metadata": {},
   "outputs": [
    {
     "data": {
      "application/vnd.jupyter.widget-view+json": {
       "model_id": "1aeb55b99e434335b668c0eda75e6e1e",
       "version_major": 2,
       "version_minor": 0
      },
      "text/plain": [
       "Turtle()"
      ]
     },
     "metadata": {},
     "output_type": "display_data"
    }
   ],
   "source": [
    "from mobilechelonian import Turtle\n",
    "\n",
    "t = Turtle()\n",
    "t.forward(100)\n",
    "t.right(90)\n",
    "t.forward(100)\n"
   ]
  },
  {
   "cell_type": "markdown",
   "metadata": {},
   "source": [
    "`ipyturtle` works, but require more digging into usage"
   ]
  },
  {
   "cell_type": "code",
   "execution_count": 8,
   "metadata": {},
   "outputs": [
    {
     "data": {
      "application/vnd.jupyter.widget-view+json": {
       "model_id": "e44911fece8440a2b44e03bf5e26a3c4",
       "version_major": 2,
       "version_minor": 0
      },
      "text/plain": [
       "Canvas(height=250, width=500)"
      ]
     },
     "metadata": {},
     "output_type": "display_data"
    }
   ],
   "source": [
    "import ipyturtle3 as turtle\n",
    "from ipyturtle3 import hold_canvas\n",
    "myCanvas=turtle.Canvas(width=500,height=250)\n",
    "display(myCanvas)\n",
    "myTS=turtle.TurtleScreen(myCanvas)\n",
    "myTS.clear()\n",
    "myTS.bgcolor(\"lightgreen\")\n",
    "bob=turtle.Turtle(myTS)\n",
    "jess=turtle.Turtle(myTS,isHolonomic=True)\n",
    "jess.shape(\"square\")\n",
    "bob.shape(\"turtle\")\n",
    "\n",
    "myTS.delay(200)\n",
    "# Usual turtle Non-holonomic example\n",
    "bob.forward(50)\n",
    "bob.left(90)\n",
    "bob.forward(50)\n",
    "bob.left(90)\n",
    "bob.forward(50)\n",
    "bob.left(90)\n",
    "bob.forward(50)\n",
    "\n",
    "\n",
    "#Holonomic\n",
    "jess.moveleft(200)\n",
    "jess.moveup(100)\n",
    "jess.moveright(100)\n",
    "jess.movedown(100)\n",
    "jess.turnright(45)\n",
    "jess.turn(-45)\n",
    "jess.distance_at_angle(50,45)\n",
    "\n",
    "myTS.clear()\n",
    "\n",
    "# Rainbow benzene\n",
    "colors = ['red', 'purple', 'blue', 'green', 'orange', 'yellow']\n",
    "t = turtle.Turtle(myTS)\n",
    "myTS.bgcolor('black')\n",
    "for x in range(50):\n",
    "    with(hold_canvas(myCanvas)):\n",
    "        t.pencolor(colors[x%6])\n",
    "        t.width(x//100 + 1)\n",
    "        t.forward(x)\n",
    "        t.left(59)"
   ]
  },
  {
   "cell_type": "code",
   "execution_count": null,
   "metadata": {},
   "outputs": [],
   "source": []
  }
 ],
 "metadata": {
  "kernelspec": {
   "display_name": "Python 3 (ipykernel)",
   "language": "python",
   "name": "python3"
  },
  "language_info": {
   "codemirror_mode": {
    "name": "ipython",
    "version": 3
   },
   "file_extension": ".py",
   "mimetype": "text/x-python",
   "name": "python",
   "nbconvert_exporter": "python",
   "pygments_lexer": "ipython3",
   "version": "3.10.9"
  },
  "toc": {
   "base_numbering": 1,
   "nav_menu": {
    "height": "231px",
    "width": "194px"
   },
   "number_sections": false,
   "sideBar": true,
   "skip_h1_title": false,
   "title_cell": "Table of Contents",
   "title_sidebar": "Contents",
   "toc_cell": false,
   "toc_position": {
    "height": "1065px",
    "left": "20.2px",
    "top": "111.133px",
    "width": "159.333px"
   },
   "toc_section_display": true,
   "toc_window_display": true
  }
 },
 "nbformat": 4,
 "nbformat_minor": 1
}
