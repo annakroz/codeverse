{
 "cells": [
  {
   "cell_type": "markdown",
   "metadata": {},
   "source": [
    "# Let's use REST to build some cool stuff\n",
    "\n"
   ]
  },
  {
   "cell_type": "markdown",
   "metadata": {},
   "source": [
    "Now, after you learned about REST APIs, let's use them to build some cool code.\n",
    "We'll build an application that provides trivia questions to the user.\n",
    "To do this, we'll build a small application that interacts with the Open Trivia API, a free public REST API that provides trivia questions.\n",
    "The Python code below demonstrates how to interact with the Open Trivia API to fetch and show a list of trivia questions."
   ]
  },
  {
   "cell_type": "markdown",
   "metadata": {},
   "source": [
    "## Prepare your computer to work with Python applications\n",
    "\n",
    "First we need to make sure that we have Python installed on our computer. Run the following command in your terminal or command prompt to check if you have Python installed:"
   ]
  },
  {
   "cell_type": "code",
   "execution_count": 1,
   "metadata": {
    "ExecuteTime": {
     "start_time": "2023-04-04T19:22:54.755603Z",
     "end_time": "2023-04-04T19:22:54.797555Z"
    },
    "collapsed": false,
    "jupyter": {
     "outputs_hidden": false
    }
   },
   "outputs": [
    {
     "name": "stdout",
     "output_type": "stream",
     "text": [
      "Python 3.8.16\n"
     ]
    }
   ],
   "source": [
    "%%bash\n",
    "python --version"
   ]
  },
  {
   "cell_type": "markdown",
   "metadata": {},
   "source": [
    "## Now let's build the application\n",
    "\n",
    "First, lets define what we want to build. We will build a simple trivia game application. It will be a command-line application that will ask the user trivia questions and check if the user's answer is correct or not. We will use the Open Trivia API to fetch trivia questions. The application will fetch trivia questions from the Open Trivia API and display them to the user. The user will try to answer the questions and the application should check if the user's answer is correct or not. The application should also keep track of the user's score. Let's discuss the steps we need to take to build this application.\n",
    "We need to do the following things to build our application:\n",
    "1. Import the necessary modules\n",
    "2. Fetch trivia questions\n",
    "3. Display a random trivia question\n",
    "5. Create a function to get the user's answer\n",
    "6. Create a function to check the user's answer\n",
    "7. Create the main function to run the trivia game\n",
    "8. Run the trivia game\n",
    "\n",
    "Let's start building our application. In this chapter, we'll build the application step by step. We'll start with the first step and then move on to the next step. We'll also discuss the code for each step in detail."
   ]
  },
  {
   "cell_type": "markdown",
   "metadata": {},
   "source": [
    "### Step 1: Import the necessary modules\n",
    "\n",
    "Let's discuss what are modules in Python, how to import them, and what modules we need to import to build our application. A module is a file that contains Python code. Modules can be imported into other modules using the `import` keyword. We can import modules that are part of the Python standard library or modules that we've written ourselves. We can also import modules that are installed using pip.\n",
    "\n",
    "Let's review the modules we need to import to build our application, and what purpose they serve:\n",
    "- `requests` module which we installed using pip earlier. We'll use this module to make HTTP requests to the Open Trivia API.\n",
    "- `json` module which is part of the Python standard library. We'll use this module to parse the JSON response from the API.\n",
    "- `random` module is also part of the Python standard library. We'll use this module to shuffle the options of multiple-choice questions, so they appear in a random order.\n",
    "\n",
    "Use code cell below to import the necessary modules."
   ]
  },
  {
   "cell_type": "code",
   "execution_count": 2,
   "metadata": {
    "ExecuteTime": {
     "start_time": "2023-04-04T19:22:54.799223Z",
     "end_time": "2023-04-04T19:22:54.946112Z"
    },
    "collapsed": false,
    "jupyter": {
     "outputs_hidden": false
    }
   },
   "outputs": [],
   "source": [
    "import requests\n",
    "import json\n",
    "import random"
   ]
  },
  {
   "cell_type": "markdown",
   "metadata": {},
   "source": [
    "## Step 2: Fetch trivia questions\n",
    "In this step, we'll learn how to fetch trivia questions from the Open Trivia API using the requests library. We'll start by making a simple example of calling the API, and then we'll wrap this example in a function.\n",
    "\n",
    "### Calling REST APIs using `requests` library\n",
    "To fetch trivia questions from the Open Trivia API, we'll need to make an HTTP request to the API endpoint. We'll use the requests library to do this. First, make sure you have the library installed. If not, install it using the following command:"
   ]
  },
  {
   "cell_type": "code",
   "execution_count": 5,
   "metadata": {
    "ExecuteTime": {
     "start_time": "2023-04-04T19:25:34.960242Z",
     "end_time": "2023-04-04T19:25:35.261448Z"
    },
    "collapsed": false,
    "jupyter": {
     "outputs_hidden": false
    }
   },
   "outputs": [
    {
     "name": "stdout",
     "output_type": "stream",
     "text": [
      "[{'category': 'Entertainment: Video Games', 'type': 'multiple', 'difficulty': 'easy', 'question': 'In Kingdom Hearts, how many members does Organization XIII have in total?', 'correct_answer': '14', 'incorrect_answers': ['10', '13', '12']}, {'category': 'Entertainment: Music', 'type': 'boolean', 'difficulty': 'easy', 'question': 'Eurobeat is primarily an Italian genre of music.', 'correct_answer': 'True', 'incorrect_answers': ['False']}, {'category': 'Entertainment: Video Games', 'type': 'multiple', 'difficulty': 'easy', 'question': 'Which of the following is NOT a summon in the game &quot;South Park: The Stick of Truth&quot;?', 'correct_answer': 'Towelie', 'incorrect_answers': ['Jesus', 'Mr. Hankey', 'Mr. Slave']}, {'category': 'Entertainment: Television', 'type': 'multiple', 'difficulty': 'easy', 'question': 'In Game of Thrones, what is Littlefinger&#039;s real name?', 'correct_answer': 'Petyr Baelish', 'incorrect_answers': ['Podrick Payne', 'Lancel Lannister', 'Torrhen Karstark']}, {'category': 'Entertainment: Television', 'type': 'multiple', 'difficulty': 'hard', 'question': 'Which country does the YouTuber &quot;SinowBeats&quot; originate from?', 'correct_answer': 'Scotland', 'incorrect_answers': ['England', 'Sweden', 'Germany']}, {'category': 'Entertainment: Video Games', 'type': 'multiple', 'difficulty': 'medium', 'question': 'Which of these is not the name of a city in the Grand Theft Auto series?', 'correct_answer': 'San Andreas', 'incorrect_answers': ['San Fierro', 'Las Venturas', 'Vice City']}, {'category': 'Science & Nature', 'type': 'multiple', 'difficulty': 'hard', 'question': 'What genetic disease is caused by having an extra Y chromosome (XYY)?', 'correct_answer': 'Jacob&#039;s Syndrome', 'incorrect_answers': ['Klinefelter&#039;s Syndrome', 'Turner&#039;s Syndrome', 'Down Syndrome']}, {'category': 'Sports', 'type': 'boolean', 'difficulty': 'easy', 'question': 'In Rugby League, performing a &quot;40-20&quot; is punished by a free kick for the opposing team.', 'correct_answer': 'False', 'incorrect_answers': ['True']}, {'category': 'General Knowledge', 'type': 'multiple', 'difficulty': 'hard', 'question': 'Nephelococcygia is the practice of doing what?', 'correct_answer': 'Finding shapes in clouds', 'incorrect_answers': ['Sleeping with your eyes open', 'Breaking glass with your voice', 'Swimming in freezing water']}, {'category': 'Entertainment: Video Games', 'type': 'multiple', 'difficulty': 'medium', 'question': 'How old is Chloe Price in Life is Strange: Before the Storm?', 'correct_answer': '16', 'incorrect_answers': ['24', '19', '15']}]\n"
     ]
    }
   ],
   "source": [
    "\n",
    "# API endpoint to fetch trivia questions\n",
    "api_url = \"https://opentdb.com/api.php?amount=10\"\n",
    "\n",
    "# Make a GET request to the API\n",
    "response = requests.get(api_url)\n",
    "\n",
    "# Check if the request was successful (status code 200)\n",
    "if response.status_code == 200:\n",
    "    # Convert the response JSON to a Python dictionary\n",
    "    data = response.json()\n",
    "\n",
    "    # Print the fetched trivia questions\n",
    "    print(data['results'])\n",
    "else:\n",
    "    print(\"Error: Could not fetch trivia questions\")\n",
    "\n"
   ]
  },
  {
   "cell_type": "markdown",
   "metadata": {},
   "source": [
    "The output you see above came from the API. It's a list of 10 trivia questions in the form of a Python dictionary. Each question has a category, difficulty, question, and answer. The answer can be a string or a list of strings. If the question is a multiple-choice question, the answer will be a list of strings. If the question is a true/false question, the answer will be a string.\n",
    "\n",
    "### Wrap the Example in a Function\n",
    "Now that we have a simple example of calling the Trivia API, let's wrap this code in a function that can be reused in our application. We'll call this function `fetch_trivia_questions`. Use the code cell below to define the function."
   ]
  },
  {
   "cell_type": "code",
   "execution_count": 6,
   "metadata": {
    "ExecuteTime": {
     "start_time": "2023-04-04T19:25:49.042866Z",
     "end_time": "2023-04-04T19:25:49.053194Z"
    },
    "collapsed": false,
    "jupyter": {
     "outputs_hidden": false
    }
   },
   "outputs": [],
   "source": [
    "def fetch_trivia_questions(amount=10):\n",
    "    \"\"\"\n",
    "    Fetch trivia questions from the Open Trivia API.\n",
    "\n",
    "    Args:\n",
    "        amount (int): The number of trivia questions to fetch. Defaults to 10.\n",
    "\n",
    "    Returns:\n",
    "        list: A list of trivia questions, or an empty list if there was an error.\n",
    "    \"\"\"\n",
    "    # API endpoint to fetch trivia questions\n",
    "    api_url = f\"https://opentdb.com/api.php?amount={amount}\"\n",
    "\n",
    "    # Make a GET request to the API\n",
    "    response = requests.get(api_url)\n",
    "\n",
    "    # Check if the request was successful (status code 200)\n",
    "    if response.status_code == 200:\n",
    "        # Convert the response JSON to a Python dictionary\n",
    "        data = response.json()\n",
    "\n",
    "        # Return the fetched trivia questions\n",
    "        return data['results']\n",
    "    else:\n",
    "        print(\"Error: Could not fetch trivia questions\")\n",
    "        return []\n",
    "\n"
   ]
  },
  {
   "cell_type": "markdown",
   "metadata": {},
   "source": [
    "Now we have a function, `fetch_trivia_questions`, that fetches trivia questions from the Open Trivia API. Let's test the function by calling it and printing the fetched trivia questions."
   ]
  },
  {
   "cell_type": "code",
   "execution_count": 8,
   "metadata": {
    "ExecuteTime": {
     "start_time": "2023-04-04T19:26:38.869833Z",
     "end_time": "2023-04-04T19:26:39.160999Z"
    },
    "collapsed": false,
    "jupyter": {
     "outputs_hidden": false
    }
   },
   "outputs": [
    {
     "name": "stdout",
     "output_type": "stream",
     "text": [
      "Question 1: Who was the only god from Greece who did not get a name change in Rome?\n",
      "Question 2: Ringo Starr of The Beatles mainly played what instrument?\n",
      "Question 3: In which English county is Stonehenge?\n",
      "Question 4: What is the name of the Artificial Intelligence system in the 1983 film, &quot;WarGames&quot;?\n",
      "Question 5: Which one of these is not an official development name for a Ubuntu release?\n",
      "Question 6: In the Mass Effect trilogy, who is the main protagonist?\n",
      "Question 7: In Magic: The Gathering, what card&#039;s flavor text is &quot;Catch!&quot;?\n",
      "Question 8: Who directed the Kill Bill movies?\n",
      "Question 9: The &#039;64&#039; in the Nintendo-64 console refers to what?\n",
      "Question 10: What is the fastest road legal car in the world?\n"
     ]
    }
   ],
   "source": [
    "# Fetch trivia questions and display them nicely in the Jupyter notebook\n",
    "questions = fetch_trivia_questions()\n",
    "\n",
    "for idx, question in enumerate(questions):\n",
    "    print(f\"Question {idx + 1}: {question['question']}\")\n"
   ]
  },
  {
   "cell_type": "markdown",
   "metadata": {},
   "source": [
    "In the next step, we'll learn how to display a random trivia question to the user.\n",
    "\n",
    "\n"
   ]
  },
  {
   "cell_type": "markdown",
   "metadata": {},
   "source": [
    "\n",
    "## Step 3: Display a random trivia question\n",
    "\n",
    "Our next step is to use the fetched trivia questions in our application.\n",
    "We'll start by learning using random module to display a random trivia question to the user, and then we'll learn how to display the question and its possible answers to the user.\n",
    "\n",
    "### Using the random module\n",
    "The random module in Python provides various functions for generating random numbers and making random selections. Let's take a look at a few examples of using the random module to understand how it works.\n",
    "\n",
    "To use the `random` module, we need to import it first:"
   ]
  },
  {
   "cell_type": "code",
   "execution_count": 9,
   "metadata": {
    "ExecuteTime": {
     "start_time": "2023-04-04T19:26:48.163875Z",
     "end_time": "2023-04-04T19:26:48.170381Z"
    },
    "collapsed": false,
    "jupyter": {
     "outputs_hidden": false
    }
   },
   "outputs": [],
   "source": [
    "import random\n"
   ]
  },
  {
   "cell_type": "markdown",
   "metadata": {},
   "source": [
    "1. Generate a random float between 0 and 1:"
   ]
  },
  {
   "cell_type": "code",
   "execution_count": 12,
   "metadata": {
    "ExecuteTime": {
     "start_time": "2023-04-04T19:27:24.773943Z",
     "end_time": "2023-04-04T19:27:24.784488Z"
    },
    "collapsed": false,
    "jupyter": {
     "outputs_hidden": false
    }
   },
   "outputs": [
    {
     "name": "stdout",
     "output_type": "stream",
     "text": [
      "0.20402988174729397\n"
     ]
    }
   ],
   "source": [
    "random_float = random.random()\n",
    "print(random_float)"
   ]
  },
  {
   "cell_type": "markdown",
   "metadata": {},
   "source": [
    "2. Generate a random integer between a given range (inclusive):"
   ]
  },
  {
   "cell_type": "code",
   "execution_count": 17,
   "metadata": {
    "ExecuteTime": {
     "start_time": "2023-04-04T19:27:58.184110Z",
     "end_time": "2023-04-04T19:27:58.202509Z"
    },
    "collapsed": false,
    "jupyter": {
     "outputs_hidden": false
    }
   },
   "outputs": [
    {
     "name": "stdout",
     "output_type": "stream",
     "text": [
      "6\n"
     ]
    }
   ],
   "source": [
    "random_integer = random.randint(1, 10)\n",
    "print(random_integer)"
   ]
  },
  {
   "cell_type": "markdown",
   "metadata": {},
   "source": [
    "3. Choose a random element from a list:"
   ]
  },
  {
   "cell_type": "code",
   "execution_count": 28,
   "metadata": {
    "ExecuteTime": {
     "start_time": "2023-04-04T19:29:11.329035Z",
     "end_time": "2023-04-04T19:29:11.342011Z"
    },
    "collapsed": false,
    "jupyter": {
     "outputs_hidden": false
    }
   },
   "outputs": [
    {
     "name": "stdout",
     "output_type": "stream",
     "text": [
      "date\n"
     ]
    }
   ],
   "source": [
    "my_list = ['apple', 'banana', 'cherry', 'date']\n",
    "random_element = random.choice(my_list)\n",
    "print(random_element)"
   ]
  },
  {
   "cell_type": "markdown",
   "metadata": {},
   "source": [
    "4. Shuffle a list randomly:"
   ]
  },
  {
   "cell_type": "code",
   "execution_count": 30,
   "metadata": {
    "ExecuteTime": {
     "start_time": "2023-04-04T19:29:25.423485Z",
     "end_time": "2023-04-04T19:29:25.436394Z"
    },
    "collapsed": false,
    "jupyter": {
     "outputs_hidden": false
    }
   },
   "outputs": [
    {
     "name": "stdout",
     "output_type": "stream",
     "text": [
      "['banana', 'date', 'cherry', 'apple']\n"
     ]
    }
   ],
   "source": [
    "my_list = ['apple', 'banana', 'cherry', 'date']\n",
    "random.shuffle(my_list)\n",
    "print(my_list)"
   ]
  },
  {
   "cell_type": "markdown",
   "metadata": {},
   "source": [
    "### Display a random trivia question\n",
    "\n",
    "Now that we know how to use the random module, let's use it to display a random trivia question to the user. We'll start by fetching trivia questions from the API, and then we'll use the random module to select a random question from the list of questions. Use the code cell below to fetch trivia questions and display a random question to the user.\n",
    "\n"
   ]
  },
  {
   "cell_type": "code",
   "execution_count": 32,
   "metadata": {
    "ExecuteTime": {
     "start_time": "2023-04-04T19:30:28.856902Z",
     "end_time": "2023-04-04T19:30:28.875685Z"
    },
    "collapsed": false,
    "jupyter": {
     "outputs_hidden": false
    }
   },
   "outputs": [],
   "source": [
    "def display_random_question():\n",
    "    # Fetch trivia questions\n",
    "    questions = fetch_trivia_questions()\n",
    "\n",
    "    # Choose a random question from the list of questions\n",
    "    question = random.choice(questions)\n",
    "\n",
    "    # Display the question\n",
    "    print(f\"Category: {question['category']}\")\n",
    "    print(f\"Difficulty: {question['difficulty']}\")\n",
    "    print(f\"Question: {question['question']}\")\n"
   ]
  },
  {
   "cell_type": "markdown",
   "metadata": {},
   "source": [
    "Now, let's test our function by calling it. Use the code cell below to call the function."
   ]
  },
  {
   "cell_type": "code",
   "execution_count": 34,
   "metadata": {
    "ExecuteTime": {
     "start_time": "2023-04-04T19:30:53.822892Z",
     "end_time": "2023-04-04T19:30:54.116920Z"
    },
    "collapsed": false,
    "jupyter": {
     "outputs_hidden": false
    }
   },
   "outputs": [
    {
     "name": "stdout",
     "output_type": "stream",
     "text": [
      "Category: General Knowledge\n",
      "Difficulty: medium\n",
      "Question: What is the name of the very first video uploaded to YouTube?\n"
     ]
    }
   ],
   "source": [
    "display_random_question()\n"
   ]
  },
  {
   "cell_type": "markdown",
   "metadata": {},
   "source": [
    "### Wrap the Example in a Function\n",
    "\n",
    "Now that we have a simple example of displaying a random trivia question to the user, let's wrap this code in a function that can be reused in our application. We'll call this function `display_random_question`. Use the code cell below to define the function."
   ]
  },
  {
   "cell_type": "code",
   "execution_count": 35,
   "metadata": {
    "collapsed": false,
    "jupyter": {
     "outputs_hidden": false
    },
    "ExecuteTime": {
     "start_time": "2023-04-04T19:31:22.501336Z",
     "end_time": "2023-04-04T19:31:22.514040Z"
    }
   },
   "outputs": [],
   "source": [
    "def display_random_question():\n",
    "    # Fetch trivia questions\n",
    "    questions = fetch_trivia_questions()\n",
    "\n",
    "    # Choose a random question from the list of questions\n",
    "    question = random.choice(questions)\n",
    "\n",
    "    # Display the question\n",
    "    print(f\"Category: {question['category']}\")\n",
    "    print(f\"Difficulty: {question['difficulty']}\")\n",
    "    print(f\"Question: {question['question']}\")"
   ]
  },
  {
   "cell_type": "markdown",
   "metadata": {},
   "source": [
    "### Display the question and its possible answers\n",
    "\n",
    "Now that we know how to display a random trivia question to the user, let's learn how to display the question and its possible answers to the user.\n",
    "We'll start by learning how to display the question and its possible answers to the user. We'll then learn how to validate the user's answer to ensure they've provided a valid answer.\n",
    "\n",
    "### Display the question and its possible answers\n",
    "\n",
    "To display the question and its possible answers to the user, we'll need to create a function called `display_question`. Use the code cell below to define the function."
   ]
  },
  {
   "cell_type": "code",
   "execution_count": null,
   "metadata": {
    "ExecuteTime": {
     "end_time": "2023-04-03T21:13:26.310239Z",
     "start_time": "2023-04-03T21:13:26.302968Z"
    },
    "collapsed": false,
    "jupyter": {
     "outputs_hidden": false
    }
   },
   "outputs": [],
   "source": [
    "def display_question(question_data):\n",
    "    # Display the question\n",
    "    print(f\"Category: {question_data['category']}\")\n",
    "    print(f\"Difficulty: {question_data['difficulty']}\")\n",
    "    print(f\"Question: {question_data['question']}\")\n",
    "\n",
    "    # Display the possible answers\n",
    "    if question_data['type'] == 'boolean':\n",
    "        print(\"1. True\")\n",
    "        print(\"2. False\")\n",
    "    else:\n",
    "        for idx, answer in enumerate(question_data['incorrect_answers']):\n",
    "            print(f\"{idx + 1}. {answer}\")\n",
    "        print(f\"{len(question_data['incorrect_answers']) + 1}. {question_data['correct_answer']}\")\n",
    "\n"
   ]
  },
  {
   "cell_type": "markdown",
   "metadata": {},
   "source": [
    "Now, let's test our function by calling it. Use the code cell below to call the function."
   ]
  },
  {
   "cell_type": "code",
   "execution_count": null,
   "metadata": {
    "ExecuteTime": {
     "end_time": "2023-04-03T21:16:07.673743Z",
     "start_time": "2023-04-03T21:16:07.241682Z"
    },
    "collapsed": false,
    "jupyter": {
     "outputs_hidden": false
    }
   },
   "outputs": [],
   "source": [
    "questions = fetch_trivia_questions()\n",
    "\n",
    "display_question(questions[0])\n"
   ]
  },
  {
   "cell_type": "markdown",
   "metadata": {},
   "source": [
    "### Validate the user's answer\n",
    "\n",
    "Now that we know how to display the question and its possible answers to the user, let's learn how to validate the user's answer to ensure they've provided a valid answer.\n"
   ]
  },
  {
   "cell_type": "code",
   "execution_count": null,
   "metadata": {
    "collapsed": false,
    "jupyter": {
     "outputs_hidden": false
    }
   },
   "outputs": [],
   "source": [
    "def get_user_answer(question_data):\n",
    "    answer_range = 2 if question_data['type'] == 'boolean' else len(question_data['incorrect_answers']) + 1\n",
    "    while True:\n",
    "        user_answer = input(\"Enter the number of your answer: \")\n",
    "        if user_answer.isdigit() and 1 <= int(user_answer) <= answer_range:\n",
    "            return int(user_answer)\n",
    "        else:\n",
    "            print(f\"Please enter a number between 1 and {answer_range}\")"
   ]
  },
  {
   "cell_type": "markdown",
   "metadata": {},
   "source": [
    "Now, let's test our function by calling it. Use the code cell below to call the function."
   ]
  },
  {
   "cell_type": "code",
   "execution_count": null,
   "metadata": {
    "collapsed": false,
    "jupyter": {
     "outputs_hidden": false
    }
   },
   "outputs": [],
   "source": [
    "questions = fetch_trivia_questions()\n",
    "\n",
    "display_question(questions[0])\n",
    "\n",
    "get_user_answer(questions[0])\n",
    "\n"
   ]
  },
  {
   "cell_type": "markdown",
   "metadata": {},
   "source": [
    "Now that we know how to display a random trivia question to the user and validate the user's answer, let's learn how to check the user's answer and display the correct answer to the user."
   ]
  },
  {
   "cell_type": "markdown",
   "metadata": {},
   "source": [
    "\n",
    "\n",
    "\n",
    "\n",
    "## Step 6: Create a function to get the user's answer\n",
    "We'll create a function called `get_user_answer` that takes the user's input and validates it to ensure they've provided a valid answer.\n"
   ]
  },
  {
   "cell_type": "code",
   "execution_count": null,
   "metadata": {
    "ExecuteTime": {
     "end_time": "2023-04-03T21:01:39.130210Z",
     "start_time": "2023-04-03T21:01:39.070597Z"
    },
    "collapsed": false,
    "jupyter": {
     "outputs_hidden": false
    }
   },
   "outputs": [],
   "source": [
    "def get_user_answer(question_data):\n",
    "    answer_range = 2 if question_data['type'] == 'boolean' else len(question_data['incorrect_answers']) + 1\n",
    "    while True:\n",
    "        user_answer = input(\"Enter the number of your answer: \")\n",
    "        if user_answer.isdigit() and 1 <= int(user_answer) <= answer_range:\n",
    "            return int(user_answer)\n",
    "        else:\n",
    "            print(f\"Please enter a number between 1 and {answer_range}\")\n"
   ]
  },
  {
   "cell_type": "markdown",
   "metadata": {},
   "source": []
  },
  {
   "cell_type": "markdown",
   "metadata": {},
   "source": [
    "\n",
    "\n",
    "\n",
    "## Step 7: Create a function to check the user's answer\n",
    "Now, we'll create a function called check_answer that takes the user's answer, the question data, and a reference to the displayed options. It checks if the user's answer is correct and returns a boolean value."
   ]
  },
  {
   "cell_type": "code",
   "execution_count": null,
   "metadata": {
    "ExecuteTime": {
     "end_time": "2023-04-03T21:01:39.130570Z",
     "start_time": "2023-04-03T21:01:39.075636Z"
    },
    "collapsed": false,
    "jupyter": {
     "outputs_hidden": false
    }
   },
   "outputs": [],
   "source": [
    "def check_answer(user_answer, question_data):\n",
    "    correct_answer = question_data['correct_answer']\n",
    "    if question_data['type'] == 'multiple':\n",
    "        options = question_data['incorrect_answers'] + [correct_answer]\n",
    "        random.shuffle(options)\n",
    "        if options[user_answer - 1] == correct_answer:\n",
    "            return True\n",
    "    else:\n",
    "        if (user_answer == 1 and correct_answer == 'True') or (user_answer == 2 and correct_answer == 'False'):\n",
    "            return True\n",
    "    return False\n"
   ]
  },
  {
   "cell_type": "markdown",
   "metadata": {},
   "source": [
    "## Step 8: Create the main function to run the trivia game\n",
    "Finally, let's create the main function run_trivia_game that puts everything together and runs the trivia game."
   ]
  },
  {
   "cell_type": "code",
   "execution_count": null,
   "metadata": {
    "ExecuteTime": {
     "end_time": "2023-04-03T21:01:39.130782Z",
     "start_time": "2023-04-03T21:01:39.082339Z"
    },
    "collapsed": false,
    "jupyter": {
     "outputs_hidden": false
    }
   },
   "outputs": [],
   "source": [
    "def run_trivia_game():\n",
    "    questions = fetch_trivia_questions()\n",
    "    score = 0\n",
    "\n",
    "    for question_data in questions:\n",
    "        display_question(question_data)\n",
    "        user_answer = get_user_answer(question_data)\n",
    "\n",
    "        if question_data['type'] == 'multiple':\n",
    "            options = question_data['incorrect_answers'] + [question_data['correct_answer']]\n",
    "            random.shuffle(options)\n",
    "        else:\n",
    "            options = None\n",
    "\n",
    "        is_correct = check_answer(user_answer, question_data, options)\n",
    "        if is_correct:\n",
    "            print(\"Correct!\")\n",
    "            score += 1\n",
    "        else:\n",
    "            print(f\"Sorry, the correct answer was: {question_data['correct_answer']}\")\n",
    "\n",
    "        print(\"\\n\")\n",
    "\n",
    "    print(f\"Your final score is {score}/{len(questions)}\")\n"
   ]
  },
  {
   "cell_type": "markdown",
   "metadata": {},
   "source": [
    "## Step 9: Running the game\n",
    "Now, let's run the game by calling the `run_trivia_game` function.\n"
   ]
  },
  {
   "cell_type": "code",
   "execution_count": null,
   "metadata": {
    "collapsed": false,
    "jupyter": {
     "outputs_hidden": false
    }
   },
   "outputs": [],
   "source": [
    "run_trivia_game()\n",
    "\n"
   ]
  },
  {
   "cell_type": "markdown",
   "metadata": {},
   "source": [
    "When you run this cell, you'll see the trivia questions one by one, along with their possible answers. Enter the number of your chosen answer and press \"Enter\". The game will tell you whether your answer was correct or not, and then proceed to the next question. Once all the questions are answered, you'll see your final score.\n",
    "\n",
    "Feel free to modify the fetch_trivia_questions function parameters to customize the number of questions, category, difficulty, and question type according to your preferences.\n",
    "\n",
    "That's it! You've successfully built a simple trivia game using Python and the Open Trivia API in a Jupyter Notebook. You can now explore other REST APIs and create more interesting applications using the same principles.\n"
   ]
  },
  {
   "cell_type": "markdown",
   "source": [
    "## Bonus exercises\n",
    "\n",
    "1. Improve the application\n",
    "1. Bonus: Add a timer\n",
    "1. Bonus: Add a leaderboard\n",
    "1. Bonus: Add a category selector\n",
    "1. Bonus: Add a difficulty selector\n",
    "1. Bonus: Add a question type selector\n",
    "1. Bonus: Add a question counter\n",
    "1. Bonus: Add a score counter\n",
    "1. Bonus: Add a question counter\n"
   ],
   "metadata": {
    "collapsed": false
   }
  }
 ],
 "metadata": {
  "kernelspec": {
   "display_name": "Python 3 (ipykernel)",
   "language": "python",
   "name": "python3"
  },
  "language_info": {
   "codemirror_mode": {
    "name": "ipython",
    "version": 3
   },
   "file_extension": ".py",
   "mimetype": "text/x-python",
   "name": "python",
   "nbconvert_exporter": "python",
   "pygments_lexer": "ipython3",
   "version": "3.8.16"
  }
 },
 "nbformat": 4,
 "nbformat_minor": 4
}
