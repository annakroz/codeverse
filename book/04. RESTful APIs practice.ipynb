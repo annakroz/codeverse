{
 "cells": [
  {
   "cell_type": "markdown",
   "metadata": {},
   "source": [
    "# Let's use REST to build some cool stuff\n",
    "\n"
   ]
  },
  {
   "cell_type": "markdown",
   "metadata": {},
   "source": [
    "Now, after you learned about REST APIs, let's use them to build some cool code.\n",
    "We'll build an application that provides trivia questions to the user.\n",
    "To do this, we'll build a small application that interacts with the Open Trivia API, a free public REST API that provides trivia questions.\n",
    "The Python code below demonstrates how to interact with the Open Trivia API to fetch and show a list of trivia questions."
   ]
  },
  {
   "cell_type": "markdown",
   "metadata": {},
   "source": [
    "## Prepare your computer to work with Python applications\n",
    "\n",
    "First we need to make sure that we have Python installed on our computer. Run the following command in your terminal or command prompt to check if you have Python installed:"
   ]
  },
  {
   "cell_type": "code",
   "execution_count": 23,
   "metadata": {
    "ExecuteTime": {
     "start_time": "2023-04-16T16:40:36.174249Z",
     "end_time": "2023-04-16T16:40:36.211711Z"
    },
    "collapsed": false,
    "jupyter": {
     "outputs_hidden": false
    }
   },
   "outputs": [
    {
     "name": "stdout",
     "output_type": "stream",
     "text": [
      "Python 3.8.16\n"
     ]
    }
   ],
   "source": [
    "%%bash\n",
    "python --version"
   ]
  },
  {
   "cell_type": "markdown",
   "metadata": {},
   "source": [
    "## Now let's build the application\n",
    "\n",
    "First, lets define what we want to build. We will build a simple trivia game application. It will be a command-line application that will ask the user trivia questions and check if the user's answer is correct or not. We will use the Open Trivia API to fetch trivia questions. The application will fetch trivia questions from the Open Trivia API and display them to the user. The user will try to answer the questions and the application should check if the user's answer is correct or not. The application should also keep track of the user's score. Let's discuss the steps we need to take to build this application.\n",
    "We need to do the following things to build our application:\n",
    "1. Import the necessary modules\n",
    "2. Fetch trivia questions\n",
    "3. Display a random trivia question\n",
    "5. Create a function to get the user's answer\n",
    "6. Create a function to check the user's answer\n",
    "7. Create the main function to run the trivia game\n",
    "8. Run the trivia game\n",
    "\n",
    "Let's start building our application. In this chapter, we'll build the application step by step. We'll start with the first step and then move on to the next step. We'll also discuss the code for each step in detail."
   ]
  },
  {
   "cell_type": "markdown",
   "metadata": {},
   "source": [
    "## Step 1: Fetch trivia questions\n",
    "In this step, we'll learn how to fetch trivia questions from the Open Trivia API using the requests library. We'll start by making a simple example of calling the API, and then we'll wrap this example in a function.\n",
    "\n",
    "### Calling REST APIs using `requests` library\n",
    "To fetch trivia questions from the Open Trivia API, we'll need to make an HTTP request to the API endpoint.\n",
    "\n",
    "We'll use the `requests` library to do this. First, make sure you have the library installed. If not, install it by running the following command in your terminal or command prompt: `pip install requests`\n",
    "Code cell below shows how to make a simple example of calling the API using the `requests` library.\n",
    "\n",
    "The cell below contains the code for making a simple example of calling the API using the `requests` library. PLease read it carefully, including comments (lines that start with `#`). Try to understand what each line of code does. You can also run the code cell to see the output."
   ]
  },
  {
   "cell_type": "code",
   "execution_count": 24,
   "outputs": [
    {
     "name": "stdout",
     "output_type": "stream",
     "text": [
      "{\"response_code\":0,\"results\":[{\"category\":\"Art\",\"type\":\"multiple\",\"difficulty\":\"easy\",\"question\":\"Who painted the Mona Lisa?\",\"correct_answer\":\"Leonardo da Vinci\",\"incorrect_answers\":[\"Pablo Picasso\",\"Claude Monet\",\"Vincent van Gogh\"]},{\"category\":\"Entertainment: Board Games\",\"type\":\"boolean\",\"difficulty\":\"easy\",\"question\":\"Snakes and Ladders was originally created in India?\",\"correct_answer\":\"True\",\"incorrect_answers\":[\"False\"]},{\"category\":\"Entertainment: Music\",\"type\":\"multiple\",\"difficulty\":\"medium\",\"question\":\"Which of these artists was NOT a member of the electronic music supergroup Swedish House Mafia, which split up in 2013?\",\"correct_answer\":\"Alesso\",\"incorrect_answers\":[\"Steve Angello\",\"Sebastian Ingrosso\",\"Axwell\"]},{\"category\":\"Science & Nature\",\"type\":\"boolean\",\"difficulty\":\"hard\",\"question\":\"It was once believed that injecting shark cartilage into people would prevent them from contracting cancer.\",\"correct_answer\":\"True\",\"incorrect_answers\":[\"False\"]},{\"category\":\"Geography\",\"type\":\"boolean\",\"difficulty\":\"medium\",\"question\":\"Vietnam is the only country in the world that starts with V. \",\"correct_answer\":\"False\",\"incorrect_answers\":[\"True\"]},{\"category\":\"Entertainment: Film\",\"type\":\"multiple\",\"difficulty\":\"medium\",\"question\":\"Who voiced Metalbeard in &quot;The Lego Movie&quot;?\",\"correct_answer\":\"Nick Offerman\",\"incorrect_answers\":[\"Liam Neeson\",\"Morgan Freeman\",\"Will Arnet\"]},{\"category\":\"Entertainment: Video Games\",\"type\":\"multiple\",\"difficulty\":\"medium\",\"question\":\"One of the Nintendo Entertainment System voice channels supports playback of sound samples. Which one?\",\"correct_answer\":\"DMC\",\"incorrect_answers\":[\"Noise\",\"Triangle\",\"Square\"]},{\"category\":\"Entertainment: Film\",\"type\":\"multiple\",\"difficulty\":\"medium\",\"question\":\"Which town is the setting for the Disney movie The Love Bug (1968)?\",\"correct_answer\":\"San Francisco\",\"incorrect_answers\":[\"Los Angeles\",\"Sacramento\",\"San Jose\"]},{\"category\":\"Entertainment: Video Games\",\"type\":\"boolean\",\"difficulty\":\"hard\",\"question\":\"The video game &quot;Fuel&quot; has an open world that is 5,560 square miles?\",\"correct_answer\":\"True\",\"incorrect_answers\":[\"False\"]},{\"category\":\"Entertainment: Video Games\",\"type\":\"multiple\",\"difficulty\":\"easy\",\"question\":\"In &quot;Yo! Noid 2,&quot; The Noid can perform what special move?\",\"correct_answer\":\"Dab\",\"incorrect_answers\":[\"Pizza Throw\",\"Dodge Roll\",\"Spin Dash\"]}]}\n"
     ]
    }
   ],
   "source": [
    "# Import the requests library\n",
    "import requests\n",
    "\n",
    "# Define variable api_url that contains API URL to fetch trivia questions\n",
    "api_url = \"https://opentdb.com/api.php?amount=10\"\n",
    "\n",
    "# Make request to the API using HTTP GET method\n",
    "response = requests.get(api_url)\n",
    "\n",
    "# Variable `response` contains all the details of the response. We will explore all the details in later chapters, but now we only need to check if the request was successful or not, and if it was successful, we need to get the response body.\n",
    "\n",
    "# First, check if the request was successful. According to HTTP specification, a successful request should have a status code of 200.\n",
    "if response.status_code == 200:\n",
    "    # If the request was successful, print the response body\n",
    "    # After you run the cell, you will see the output below. As you can see, response body contains response code and results. We will learn how to parse the response body and use it in our application in the next steps.\n",
    "    print(response.text)\n",
    "\n",
    "else:\n",
    "    # If the response status code is different than 200, that means some error happened, and the request was not successful.\n",
    "    # Let's print an error message. It will help us debug the problem.\n",
    "    print(\"Error: Could not fetch trivia questions\")\n",
    "\n"
   ],
   "metadata": {
    "collapsed": false,
    "ExecuteTime": {
     "start_time": "2023-04-16T16:40:37.845438Z",
     "end_time": "2023-04-16T16:40:38.324023Z"
    }
   }
  },
  {
   "cell_type": "code",
   "execution_count": 25,
   "outputs": [
    {
     "name": "stdout",
     "output_type": "stream",
     "text": [
      "{'response_code': 0, 'results': [{'category': 'Entertainment: Film', 'type': 'multiple', 'difficulty': 'easy', 'question': 'Which movie contains the quote, &quot;Say hello to my little friend!&quot;?', 'correct_answer': 'Scarface', 'incorrect_answers': ['Reservoir Dogs', 'Heat', 'Goodfellas']}, {'category': 'Science & Nature', 'type': 'boolean', 'difficulty': 'medium', 'question': 'Like with the Neanderthals, Homo sapiens sapiens also interbred with the Denisovans.', 'correct_answer': 'True', 'incorrect_answers': ['False']}, {'category': 'Science & Nature', 'type': 'multiple', 'difficulty': 'medium', 'question': 'Who developed the first successful polio vaccine in the 1950s?', 'correct_answer': 'Jonas Salk', 'incorrect_answers': ['John F. Enders', 'Thomas Weller', 'Frederick Robbins']}, {'category': 'Entertainment: Video Games', 'type': 'multiple', 'difficulty': 'hard', 'question': 'What device allows Tracer to manipulate her own time in the game &quot;Overwatch&quot;?', 'correct_answer': 'Chronal Accelerator', 'incorrect_answers': ['B.L.I.N.K', 'Spacial Displacement Manipulator', 'TMD (Time Manipulation Device)']}, {'category': 'History', 'type': 'boolean', 'difficulty': 'hard', 'question': 'The fourth funnel of the RMS Titanic was fake designed to make the ship look more powerful and symmetrical.', 'correct_answer': 'True', 'incorrect_answers': ['False']}, {'category': 'Entertainment: Books', 'type': 'multiple', 'difficulty': 'hard', 'question': 'Which of these does Charlie NOT read in The Perks of Being a Wallflower?', 'correct_answer': 'The Grapes of Wrath', 'incorrect_answers': ['Hamlet', 'The Great Gatsby', 'Peter Pan']}, {'category': 'Geography', 'type': 'multiple', 'difficulty': 'medium', 'question': 'What tiny principality lies between Spain and France?', 'correct_answer': 'Andorra', 'incorrect_answers': ['Liechtenstein', 'Monaco', 'San Marino']}, {'category': 'History', 'type': 'multiple', 'difficulty': 'medium', 'question': 'What was the bloodiest single-day battle during the American Civil War?', 'correct_answer': 'The Battle of Antietam', 'incorrect_answers': ['The Siege of Vicksburg', 'The Battle of Gettysburg', 'The Battles of Chancellorsville']}, {'category': 'Entertainment: Japanese Anime & Manga', 'type': 'multiple', 'difficulty': 'easy', 'question': 'Who is the colossal titan in &quot;Attack On Titan&quot;?', 'correct_answer': 'Bertolt Hoover', 'incorrect_answers': ['Reiner', 'Eren', 'Sasha']}, {'category': 'Entertainment: Video Games', 'type': 'multiple', 'difficulty': 'hard', 'question': 'Which of these Generation 1 Pokemon did NOT have an evolution in Generation 4?', 'correct_answer': 'Jynx', 'incorrect_answers': ['Electabuzz', 'Magmar', 'Rhydon']}]}\n"
     ]
    }
   ],
   "source": [
    "\"\"\"\n",
    "So far we have learned how to make a simple example of calling the API using the requests library.\n",
    "Now, let's slightly modify, and save results of our API call in a variable. We will use this variable later in our application.\n",
    "\n",
    "We will use the `json` method to get the response body as a Python dictionary. We discuss dictionaries in the next chapter.\n",
    "For now, just know that the `json` method returns the response body as a Python dictionary.\n",
    "We will use this dictionary to get the trivia questions and display them to the user.\n",
    "\"\"\"\n",
    "\n",
    "import requests\n",
    "\n",
    "api_url = \"https://opentdb.com/api.php?amount=10\"\n",
    "response = requests.get(api_url)\n",
    "\n",
    "if response.status_code == 200:\n",
    "\n",
    "    # Let's use variable data to store the response body.\n",
    "    # We use method json() to get the response body as a Python dictionary.\n",
    "    data = response.json()\n",
    "\n",
    "    # Let's print content of the variable data. Explore the output, and try to understand what it contains.\n",
    "    print(data)\n",
    "\n",
    "    \"\"\"\n",
    "    The structure you see in the output above is a Python dictionary. It contains two keys: response_code and results.\n",
    "    The value of the key response_code is 0, which means the request was successful.\n",
    "    The value of the key results is a list of 10 trivia questions.\n",
    "    Each question is a Python dictionary that contains the category, difficulty, question, and answer.\n",
    "    The answer can be a string or a list of strings.\n",
    "    If the question is a multiple-choice question, the answer will be a list of strings. If the question is a true/false question, the answer will be a string.\n",
    "    \"\"\"\n",
    "else:\n",
    "    print(\"Error: Could not fetch trivia questions\")\n",
    "\n"
   ],
   "metadata": {
    "collapsed": false,
    "ExecuteTime": {
     "start_time": "2023-04-16T16:40:38.996199Z",
     "end_time": "2023-04-16T16:40:39.461490Z"
    }
   }
  },
  {
   "cell_type": "code",
   "execution_count": 26,
   "outputs": [
    {
     "data": {
      "text/plain": "[{'category': 'Entertainment: Film',\n  'type': 'multiple',\n  'difficulty': 'easy',\n  'question': 'Which movie contains the quote, &quot;Say hello to my little friend!&quot;?',\n  'correct_answer': 'Scarface',\n  'incorrect_answers': ['Reservoir Dogs', 'Heat', 'Goodfellas']},\n {'category': 'Science & Nature',\n  'type': 'boolean',\n  'difficulty': 'medium',\n  'question': 'Like with the Neanderthals, Homo sapiens sapiens also interbred with the Denisovans.',\n  'correct_answer': 'True',\n  'incorrect_answers': ['False']},\n {'category': 'Science & Nature',\n  'type': 'multiple',\n  'difficulty': 'medium',\n  'question': 'Who developed the first successful polio vaccine in the 1950s?',\n  'correct_answer': 'Jonas Salk',\n  'incorrect_answers': ['John F. Enders',\n   'Thomas Weller',\n   'Frederick Robbins']},\n {'category': 'Entertainment: Video Games',\n  'type': 'multiple',\n  'difficulty': 'hard',\n  'question': 'What device allows Tracer to manipulate her own time in the game &quot;Overwatch&quot;?',\n  'correct_answer': 'Chronal Accelerator',\n  'incorrect_answers': ['B.L.I.N.K',\n   'Spacial Displacement Manipulator',\n   'TMD (Time Manipulation Device)']},\n {'category': 'History',\n  'type': 'boolean',\n  'difficulty': 'hard',\n  'question': 'The fourth funnel of the RMS Titanic was fake designed to make the ship look more powerful and symmetrical.',\n  'correct_answer': 'True',\n  'incorrect_answers': ['False']},\n {'category': 'Entertainment: Books',\n  'type': 'multiple',\n  'difficulty': 'hard',\n  'question': 'Which of these does Charlie NOT read in The Perks of Being a Wallflower?',\n  'correct_answer': 'The Grapes of Wrath',\n  'incorrect_answers': ['Hamlet', 'The Great Gatsby', 'Peter Pan']},\n {'category': 'Geography',\n  'type': 'multiple',\n  'difficulty': 'medium',\n  'question': 'What tiny principality lies between Spain and France?',\n  'correct_answer': 'Andorra',\n  'incorrect_answers': ['Liechtenstein', 'Monaco', 'San Marino']},\n {'category': 'History',\n  'type': 'multiple',\n  'difficulty': 'medium',\n  'question': 'What was the bloodiest single-day battle during the American Civil War?',\n  'correct_answer': 'The Battle of Antietam',\n  'incorrect_answers': ['The Siege of Vicksburg',\n   'The Battle of Gettysburg',\n   'The Battles of Chancellorsville']},\n {'category': 'Entertainment: Japanese Anime & Manga',\n  'type': 'multiple',\n  'difficulty': 'easy',\n  'question': 'Who is the colossal titan in &quot;Attack On Titan&quot;?',\n  'correct_answer': 'Bertolt Hoover',\n  'incorrect_answers': ['Reiner', 'Eren', 'Sasha']},\n {'category': 'Entertainment: Video Games',\n  'type': 'multiple',\n  'difficulty': 'hard',\n  'question': 'Which of these Generation 1 Pokemon did NOT have an evolution in Generation 4?',\n  'correct_answer': 'Jynx',\n  'incorrect_answers': ['Electabuzz', 'Magmar', 'Rhydon']}]"
     },
     "execution_count": 26,
     "metadata": {},
     "output_type": "execute_result"
    }
   ],
   "source": [
    "# We can access different elements of the dictionary using the keys.\n",
    "# For example, to get the value of the key response_code, we can use the following code:\n",
    "data['results']"
   ],
   "metadata": {
    "collapsed": false,
    "ExecuteTime": {
     "start_time": "2023-04-16T16:40:40.099089Z",
     "end_time": "2023-04-16T16:40:40.106949Z"
    }
   }
  },
  {
   "cell_type": "code",
   "execution_count": 27,
   "outputs": [
    {
     "name": "stdout",
     "output_type": "stream",
     "text": [
      "{'category': 'Entertainment: Film', 'type': 'multiple', 'difficulty': 'easy', 'question': 'Which movie contains the quote, &quot;Say hello to my little friend!&quot;?', 'correct_answer': 'Scarface', 'incorrect_answers': ['Reservoir Dogs', 'Heat', 'Goodfellas']}\n",
      "Entertainment: Film\n",
      "['Reservoir Dogs', 'Heat', 'Goodfellas']\n"
     ]
    }
   ],
   "source": [
    "# Study the output of the code cell above. It's a list of 10 trivia questions, where each question is a Python dictionary.\n",
    "# Let's play with dictionary, and try to access different elements of the dictionary.\n",
    "\n",
    "print(data['results'][0])\n",
    "print(data['results'][0]['category'])\n",
    "print(data['results'][0]['incorrect_answers'])"
   ],
   "metadata": {
    "collapsed": false,
    "ExecuteTime": {
     "start_time": "2023-04-16T16:40:40.945083Z",
     "end_time": "2023-04-16T16:40:40.955967Z"
    }
   }
  },
  {
   "cell_type": "markdown",
   "metadata": {},
   "source": [
    "### Wrap the Example in a Function\n",
    "Now that we have a simple example of calling the Trivia API, let's wrap this code in a function that can be reused in our application. We'll call this function `fetch_trivia_questions`.\n",
    "Use the code cell below to define the function. Review the code carefully, including comments. Try to understand what each line of code does. Can you explain what the function does? How it differs from the example we made above?"
   ]
  },
  {
   "cell_type": "code",
   "execution_count": 28,
   "metadata": {
    "ExecuteTime": {
     "start_time": "2023-04-16T16:40:42.016962Z",
     "end_time": "2023-04-16T16:40:42.020328Z"
    },
    "collapsed": false,
    "jupyter": {
     "outputs_hidden": false
    }
   },
   "outputs": [],
   "source": [
    "def fetch_trivia_questions(amount):\n",
    "    \"\"\"\n",
    "    Fetch trivia questions from the Open Trivia API.\n",
    "\n",
    "    Args:\n",
    "        amount (int): The number of trivia questions to fetch. Defaults to 10.\n",
    "\n",
    "    Returns:\n",
    "        list: A list of trivia questions, or an empty list if there was an error.\n",
    "    \"\"\"\n",
    "\n",
    "    api_url = f\"https://opentdb.com/api.php?amount={amount}\"\n",
    "    response = requests.get(api_url)\n",
    "\n",
    "    if response.status_code == 200:\n",
    "        # Convert the response JSON to a Python dictionary\n",
    "        data = response.json()\n",
    "\n",
    "        # Return the fetched trivia questions\n",
    "        return data['results']\n",
    "    else:\n",
    "        print(\"Error: Could not fetch trivia questions\")\n",
    "        return []\n",
    "\n"
   ]
  },
  {
   "cell_type": "markdown",
   "metadata": {},
   "source": [
    "Now we have a function, `fetch_trivia_questions`, that fetches trivia questions from the Open Trivia API. Let's test the function by calling it and printing the fetched trivia questions."
   ]
  },
  {
   "cell_type": "code",
   "execution_count": 29,
   "metadata": {
    "ExecuteTime": {
     "start_time": "2023-04-16T16:40:43.323339Z",
     "end_time": "2023-04-16T16:40:43.802888Z"
    },
    "collapsed": false,
    "jupyter": {
     "outputs_hidden": false
    }
   },
   "outputs": [
    {
     "name": "stdout",
     "output_type": "stream",
     "text": [
      "Question 1: Scotch whisky and Drambuie make up which cocktail?\n",
      "Question 2: What game was used to advertise Steam?\n",
      "Question 3: Which item of clothing is usually worn by a Scotsman at a wedding?\n",
      "Question 4: What is the name of the only remaining Grand Duchy in the world ?\n",
      "Question 5: In &quot;Kingdom Hearts&quot;, what is the name of Sora&#039;s home world?\n"
     ]
    }
   ],
   "source": [
    "# Fetch trivia questions and display them nicely in the Jupyter notebook\n",
    "questions = fetch_trivia_questions(5)\n",
    "\n",
    "count = 1\n",
    "for question in questions:\n",
    "    print(f\"Question {count}: {question['question']}\")\n",
    "    count += 1\n"
   ]
  },
  {
   "cell_type": "markdown",
   "metadata": {},
   "source": [
    "If you're using Python for the first time, you may be wondering what means strange string format we used in print statements. For example, `f\"Question {count}: {question['question']}\"`. What are these `f`, `{`, and `}` characters?\n",
    "\n",
    "Quick explanation: This is called an f-string. It's a way of formatting strings in Python, and it helps to easy combine of variables and text in print output.\n",
    "For example, if we want to print a string that contains a variable, we can use the following code: `print(\"The value of the variable is \" + str(variable))`. This code is not very readable, and it's hard to understand what the output will be.\n",
    "With f-strings, we can use the following code: `print(f\"The value of the variable is {variable}\")`. This code is much more readable, and it's easy to understand what the output will be.\n",
    "You can read more about f-strings in the [Python documentation](https://docs.python.org/3/tutorial/inputoutput.html#formatted-string-literals)."
   ]
  },
  {
   "cell_type": "markdown",
   "source": [
    "In the next step, we'll learn how to display a random trivia question to the user."
   ],
   "metadata": {
    "collapsed": false
   }
  },
  {
   "cell_type": "markdown",
   "metadata": {},
   "source": [
    "## Step 2: Display a random trivia question\n",
    "\n",
    "Our next step is to use the fetched trivia questions in our application.\n",
    "We'll start by learning using random module to display a random trivia question to the user, and then we'll learn how to display the question and its possible answers to the user.\n",
    "\n",
    "### Using the random module\n",
    "The random module in Python provides various functions for generating random numbers and making random selections. Let's take a look at a few examples of using the random module to understand how it works.\n",
    "\n",
    "To use the `random` module, we need to import it first:"
   ]
  },
  {
   "cell_type": "code",
   "execution_count": 31,
   "metadata": {
    "ExecuteTime": {
     "start_time": "2023-04-16T16:40:57.493640Z",
     "end_time": "2023-04-16T16:40:57.495510Z"
    },
    "collapsed": false,
    "jupyter": {
     "outputs_hidden": false
    }
   },
   "outputs": [],
   "source": [
    "import random\n"
   ]
  },
  {
   "cell_type": "markdown",
   "metadata": {},
   "source": [
    "1. Generate a random float between 0 and 1:"
   ]
  },
  {
   "cell_type": "code",
   "execution_count": 32,
   "metadata": {
    "ExecuteTime": {
     "start_time": "2023-04-16T16:40:58.377487Z",
     "end_time": "2023-04-16T16:40:58.381745Z"
    },
    "collapsed": false,
    "jupyter": {
     "outputs_hidden": false
    }
   },
   "outputs": [
    {
     "name": "stdout",
     "output_type": "stream",
     "text": [
      "0.7774333446919492\n"
     ]
    }
   ],
   "source": [
    "random_float = random.random()\n",
    "print(random_float)"
   ]
  },
  {
   "cell_type": "markdown",
   "metadata": {},
   "source": [
    "2. Generate a random integer between a given range (inclusive):"
   ]
  },
  {
   "cell_type": "code",
   "execution_count": 33,
   "metadata": {
    "ExecuteTime": {
     "start_time": "2023-04-16T16:40:59.713210Z",
     "end_time": "2023-04-16T16:40:59.719412Z"
    },
    "collapsed": false,
    "jupyter": {
     "outputs_hidden": false
    }
   },
   "outputs": [
    {
     "name": "stdout",
     "output_type": "stream",
     "text": [
      "3\n"
     ]
    }
   ],
   "source": [
    "random_integer = random.randint(1, 10)\n",
    "print(random_integer)"
   ]
  },
  {
   "cell_type": "markdown",
   "metadata": {},
   "source": [
    "3. Choose a random element from a list:"
   ]
  },
  {
   "cell_type": "code",
   "execution_count": 34,
   "metadata": {
    "ExecuteTime": {
     "start_time": "2023-04-16T16:41:00.057299Z",
     "end_time": "2023-04-16T16:41:00.062162Z"
    },
    "collapsed": false,
    "jupyter": {
     "outputs_hidden": false
    }
   },
   "outputs": [
    {
     "name": "stdout",
     "output_type": "stream",
     "text": [
      "date\n"
     ]
    }
   ],
   "source": [
    "my_list = ['apple', 'banana', 'cherry', 'date']\n",
    "random_element = random.choice(my_list)\n",
    "print(random_element)"
   ]
  },
  {
   "cell_type": "markdown",
   "metadata": {},
   "source": [
    "4. Shuffle a list randomly:"
   ]
  },
  {
   "cell_type": "code",
   "execution_count": 35,
   "metadata": {
    "ExecuteTime": {
     "start_time": "2023-04-16T16:41:03.273303Z",
     "end_time": "2023-04-16T16:41:03.280514Z"
    },
    "collapsed": false,
    "jupyter": {
     "outputs_hidden": false
    }
   },
   "outputs": [
    {
     "name": "stdout",
     "output_type": "stream",
     "text": [
      "['date', 'banana', 'cherry', 'apple']\n"
     ]
    }
   ],
   "source": [
    "my_list = ['apple', 'banana', 'cherry', 'date']\n",
    "random.shuffle(my_list)\n",
    "print(my_list)"
   ]
  },
  {
   "cell_type": "markdown",
   "metadata": {},
   "source": [
    "### Display a random trivia question\n",
    "\n",
    "Now that we know how to use the random module, let's use it to display a random trivia question to the user. We'll start by fetching trivia questions from the API, and then we'll use the random module to select a random question from the list of questions. Use the code cell below to fetch trivia questions and display a random question to the user.\n",
    "\n"
   ]
  },
  {
   "cell_type": "code",
   "execution_count": 37,
   "metadata": {
    "ExecuteTime": {
     "start_time": "2023-04-16T16:41:19.918300Z",
     "end_time": "2023-04-16T16:41:21.345476Z"
    },
    "collapsed": false,
    "jupyter": {
     "outputs_hidden": false
    }
   },
   "outputs": [
    {
     "name": "stdout",
     "output_type": "stream",
     "text": [
      "Category: Entertainment: Music\n",
      "Difficulty: medium\n",
      "Question: Which of these is NOT the name of an album released by Miami-based producer DJ Khaled?\n"
     ]
    }
   ],
   "source": [
    "import random\n",
    "\n",
    "# Fetch trivia questions\n",
    "questions = fetch_trivia_questions(5)\n",
    "\n",
    "# Choose a random question from the list of questions\n",
    "question = random.choice(questions)\n",
    "\n",
    "# Display the question\n",
    "print(f\"Category: {question['category']}\")\n",
    "print(f\"Difficulty: {question['difficulty']}\")\n",
    "print(f\"Question: {question['question']}\")\n"
   ]
  },
  {
   "cell_type": "markdown",
   "metadata": {},
   "source": [
    "# ----- THIS IS WHERE I STOPPED -----\n",
    "#TODO Continue fixing text from here\n",
    "\n",
    "\n",
    "\n",
    "### Wrap the Example in a Function\n",
    "\n",
    "Now that we have a simple example of displaying a random trivia question to the user, let's wrap this code in a function that can be reused in our application. We'll call this function `display_random_question`. Use the code cell below to define the function."
   ]
  },
  {
   "cell_type": "code",
   "execution_count": null,
   "metadata": {
    "collapsed": false,
    "jupyter": {
     "outputs_hidden": false
    },
    "ExecuteTime": {
     "start_time": "2023-04-11T12:56:17.842800Z",
     "end_time": "2023-04-11T12:56:17.847219Z"
    }
   },
   "outputs": [],
   "source": [
    "def display_random_question():\n",
    "    # Fetch trivia questions\n",
    "    questions = fetch_trivia_questions()\n",
    "\n",
    "    # Choose a random question from the list of questions\n",
    "    question = random.choice(questions)\n",
    "\n",
    "    # Display the question\n",
    "    print(f\"Category: {question['category']}\")\n",
    "    print(f\"Difficulty: {question['difficulty']}\")\n",
    "    print(f\"Question: {question['question']}\")"
   ]
  },
  {
   "cell_type": "markdown",
   "source": [
    "Now, let's test our function by calling it. Use the code cell below to call the function."
   ],
   "metadata": {
    "collapsed": false
   }
  },
  {
   "cell_type": "code",
   "execution_count": null,
   "outputs": [],
   "source": [
    "display_random_question()\n"
   ],
   "metadata": {
    "collapsed": false,
    "ExecuteTime": {
     "start_time": "2023-04-11T12:56:19.226049Z",
     "end_time": "2023-04-11T12:56:19.521519Z"
    }
   }
  },
  {
   "cell_type": "markdown",
   "metadata": {},
   "source": [
    "### Display the question and its possible answers\n",
    "\n",
    "Now that we know how to display a random trivia question to the user, let's learn how to display the question and its possible answers to the user.\n",
    "We'll start by learning how to display the question and its possible answers to the user. We'll then learn how to validate the user's answer to ensure they've provided a valid answer.\n",
    "\n",
    "\n",
    "\n",
    "### Display the question and its possible answers\n",
    "\n",
    "To display the question and its possible answers to the user, we'll need to create a function called `display_question`. Use the code cell below to define the function."
   ]
  },
  {
   "cell_type": "code",
   "execution_count": null,
   "metadata": {
    "ExecuteTime": {
     "start_time": "2023-04-11T13:06:29.842066Z",
     "end_time": "2023-04-11T13:06:29.850225Z"
    },
    "collapsed": false,
    "jupyter": {
     "outputs_hidden": false
    }
   },
   "outputs": [],
   "source": [
    "def display_question(question_data):\n",
    "    # Display the question\n",
    "    print(f\"--- display_question() ---\")\n",
    "    print(f\"Category: {question_data['category']}\")\n",
    "    print(f\"Difficulty: {question_data['difficulty']}\")\n",
    "    print(f\"Question: {question_data['question']}\")\n",
    "\n",
    "    # Display the possible answers\n",
    "    print(f\"Correct answer:   {question_data['correct_answer']}\")\n",
    "    for wrong_answer in question_data['incorrect_answers']:\n",
    "        print(f\"Incorrect answer: {wrong_answer}\")\n",
    "\n"
   ]
  },
  {
   "cell_type": "markdown",
   "metadata": {},
   "source": [
    "Now, let's test our function by calling it. Use the code cell below to call the function."
   ]
  },
  {
   "cell_type": "code",
   "execution_count": null,
   "metadata": {
    "ExecuteTime": {
     "start_time": "2023-04-11T13:06:54.357678Z",
     "end_time": "2023-04-11T13:06:55.671722Z"
    },
    "collapsed": false,
    "jupyter": {
     "outputs_hidden": false
    }
   },
   "outputs": [],
   "source": [
    "questions = fetch_trivia_questions()\n",
    "print(f'Raw data from trivia API:\\n\\t{questions[0]}')\n",
    "print('\\n----------------------------------\\n')\n",
    "display_question(questions[0])"
   ]
  },
  {
   "cell_type": "markdown",
   "metadata": {},
   "source": [
    "### Validate the user's answer\n",
    "\n",
    "Now that we know how to display the question and its possible answers to the user, let's learn how to validate the user's answer to ensure they've provided a valid answer.\n"
   ]
  },
  {
   "cell_type": "code",
   "execution_count": null,
   "metadata": {
    "collapsed": false,
    "jupyter": {
     "outputs_hidden": false
    }
   },
   "outputs": [],
   "source": [
    "#TODO - We need to give user list of answers and ask them to choose one. List of answers must contain correct answer and incorrect answers. User must choose one of them. If user chooses correct answer, we need to display \"Correct answer!\" message. If user chooses incorrect answer, we need to display \"Incorrect answer!\" message and display the correct answer to the user.\n",
    "#TODO - our `questions[0]` variable has separate fields for correct answer and incorrect answers. We need to combine them into a single list and display them to the user.\n",
    "#TODO - We also need to validate the user's answer to ensure they've provided a valid answer.\n",
    "\n",
    "def get_user_answer(question_data):\n",
    "    answer_range = len(question_data['incorrect_answers']) + 1\n",
    "    while True:\n",
    "        user_answer = input(\"Enter the number of your answer: \")\n",
    "        if user_answer.isdigit() and 1 <= int(user_answer) <= answer_range:\n",
    "            return int(user_answer)\n",
    "        else:\n",
    "            print(f\"Please enter a number between 1 and {answer_range}\")"
   ]
  },
  {
   "cell_type": "markdown",
   "metadata": {},
   "source": [
    "Now, let's test our function by calling it. Use the code cell below to call the function."
   ]
  },
  {
   "cell_type": "code",
   "execution_count": null,
   "metadata": {
    "collapsed": false,
    "jupyter": {
     "outputs_hidden": false
    }
   },
   "outputs": [],
   "source": [
    "questions = fetch_trivia_questions()\n",
    "\n",
    "display_question(questions[0])\n",
    "\n",
    "get_user_answer(questions[0])\n",
    "\n"
   ]
  },
  {
   "cell_type": "markdown",
   "metadata": {},
   "source": [
    "Now that we know how to display a random trivia question to the user and validate the user's answer, let's learn how to check the user's answer and display the correct answer to the user."
   ]
  },
  {
   "cell_type": "markdown",
   "metadata": {},
   "source": [
    "\n",
    "\n",
    "\n",
    "\n",
    "## Step 6: Create a function to get the user's answer\n",
    "We'll create a function called `get_user_answer` that takes the user's input and validates it to ensure they've provided a valid answer.\n"
   ]
  },
  {
   "cell_type": "code",
   "execution_count": null,
   "metadata": {
    "ExecuteTime": {
     "end_time": "2023-04-03T21:01:39.130210Z",
     "start_time": "2023-04-03T21:01:39.070597Z"
    },
    "collapsed": false,
    "jupyter": {
     "outputs_hidden": false
    }
   },
   "outputs": [],
   "source": [
    "def get_user_answer(question_data):\n",
    "    answer_range = 2 if question_data['type'] == 'boolean' else len(question_data['incorrect_answers']) + 1\n",
    "    while True:\n",
    "        user_answer = input(\"Enter the number of your answer: \")\n",
    "        if user_answer.isdigit() and 1 <= int(user_answer) <= answer_range:\n",
    "            return int(user_answer)\n",
    "        else:\n",
    "            print(f\"Please enter a number between 1 and {answer_range}\")\n"
   ]
  },
  {
   "cell_type": "markdown",
   "metadata": {},
   "source": []
  },
  {
   "cell_type": "markdown",
   "metadata": {},
   "source": [
    "\n",
    "\n",
    "\n",
    "## Step 7: Create a function to check the user's answer\n",
    "Now, we'll create a function called check_answer that takes the user's answer, the question data, and a reference to the displayed options. It checks if the user's answer is correct and returns a boolean value."
   ]
  },
  {
   "cell_type": "code",
   "execution_count": null,
   "metadata": {
    "ExecuteTime": {
     "end_time": "2023-04-03T21:01:39.130570Z",
     "start_time": "2023-04-03T21:01:39.075636Z"
    },
    "collapsed": false,
    "jupyter": {
     "outputs_hidden": false
    }
   },
   "outputs": [],
   "source": [
    "def check_answer(user_answer, question_data):\n",
    "    correct_answer = question_data['correct_answer']\n",
    "    if question_data['type'] == 'multiple':\n",
    "        options = question_data['incorrect_answers'] + [correct_answer]\n",
    "        random.shuffle(options)\n",
    "        if options[user_answer - 1] == correct_answer:\n",
    "            return True\n",
    "    else:\n",
    "        if (user_answer == 1 and correct_answer == 'True') or (user_answer == 2 and correct_answer == 'False'):\n",
    "            return True\n",
    "    return False\n"
   ]
  },
  {
   "cell_type": "markdown",
   "metadata": {},
   "source": [
    "## Step 8: Create the main function to run the trivia game\n",
    "Finally, let's create the main function run_trivia_game that puts everything together and runs the trivia game."
   ]
  },
  {
   "cell_type": "code",
   "execution_count": null,
   "metadata": {
    "ExecuteTime": {
     "end_time": "2023-04-03T21:01:39.130782Z",
     "start_time": "2023-04-03T21:01:39.082339Z"
    },
    "collapsed": false,
    "jupyter": {
     "outputs_hidden": false
    }
   },
   "outputs": [],
   "source": [
    "def run_trivia_game():\n",
    "    questions = fetch_trivia_questions()\n",
    "    score = 0\n",
    "\n",
    "    for question_data in questions:\n",
    "        display_question(question_data)\n",
    "        user_answer = get_user_answer(question_data)\n",
    "\n",
    "        if question_data['type'] == 'multiple':\n",
    "            options = question_data['incorrect_answers'] + [question_data['correct_answer']]\n",
    "            random.shuffle(options)\n",
    "        else:\n",
    "            options = None\n",
    "\n",
    "        is_correct = check_answer(user_answer, question_data, options)\n",
    "        if is_correct:\n",
    "            print(\"Correct!\")\n",
    "            score += 1\n",
    "        else:\n",
    "            print(f\"Sorry, the correct answer was: {question_data['correct_answer']}\")\n",
    "\n",
    "        print(\"\\n\")\n",
    "\n",
    "    print(f\"Your final score is {score}/{len(questions)}\")\n"
   ]
  },
  {
   "cell_type": "markdown",
   "metadata": {},
   "source": [
    "## Step 9: Running the game\n",
    "Now, let's run the game by calling the `run_trivia_game` function.\n"
   ]
  },
  {
   "cell_type": "code",
   "execution_count": null,
   "metadata": {
    "collapsed": false,
    "jupyter": {
     "outputs_hidden": false
    }
   },
   "outputs": [],
   "source": [
    "run_trivia_game()\n",
    "\n"
   ]
  },
  {
   "cell_type": "markdown",
   "metadata": {},
   "source": [
    "When you run this cell, you'll see the trivia questions one by one, along with their possible answers. Enter the number of your chosen answer and press \"Enter\". The game will tell you whether your answer was correct or not, and then proceed to the next question. Once all the questions are answered, you'll see your final score.\n",
    "\n",
    "Feel free to modify the fetch_trivia_questions function parameters to customize the number of questions, category, difficulty, and question type according to your preferences.\n",
    "\n",
    "That's it! You've successfully built a simple trivia game using Python and the Open Trivia API in a Jupyter Notebook. You can now explore other REST APIs and create more interesting applications using the same principles.\n"
   ]
  },
  {
   "cell_type": "markdown",
   "source": [
    "## Bonus exercises\n",
    "\n",
    "1. Improve the application\n",
    "1. Bonus: Add a timer\n",
    "1. Bonus: Add a leaderboard\n",
    "1. Bonus: Add a category selector\n",
    "1. Bonus: Add a difficulty selector\n",
    "1. Bonus: Add a question type selector\n",
    "1. Bonus: Add a question counter\n",
    "1. Bonus: Add a score counter\n",
    "1. Bonus: Add a question counter\n"
   ],
   "metadata": {
    "collapsed": false
   }
  }
 ],
 "metadata": {
  "kernelspec": {
   "display_name": "Python 3 (ipykernel)",
   "language": "python",
   "name": "python3"
  },
  "language_info": {
   "codemirror_mode": {
    "name": "ipython",
    "version": 3
   },
   "file_extension": ".py",
   "mimetype": "text/x-python",
   "name": "python",
   "nbconvert_exporter": "python",
   "pygments_lexer": "ipython3",
   "version": "3.8.16"
  }
 },
 "nbformat": 4,
 "nbformat_minor": 4
}
