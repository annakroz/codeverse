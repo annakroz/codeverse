{
 "cells": [
  {
   "cell_type": "markdown",
   "source": [
    "# Let's use REST to build some cool stuff\n",
    "\n"
   ],
   "metadata": {
    "collapsed": false
   }
  },
  {
   "cell_type": "markdown",
   "source": [
    "Now, after you learned about REST APIs, let's use them to build some cool code.\n",
    "We'll build an application that provides trivia questions to the user.\n",
    "To do this, we'll build a small application that interacts with the Open Trivia API, a free public REST API that provides trivia questions.\n",
    "The Python code below demonstrates how to interact with the Open Trivia API to fetch and show a list of trivia questions."
   ],
   "metadata": {
    "collapsed": false
   }
  },
  {
   "cell_type": "markdown",
   "source": [
    "## Prepare your computer to work with Python applications\n",
    "\n",
    "First we need to make sure that we have Python installed on our computer. Run the following command in your terminal or command prompt to check if you have Python installed:"
   ],
   "metadata": {
    "collapsed": false
   }
  },
  {
   "cell_type": "code",
   "execution_count": 13,
   "outputs": [
    {
     "name": "stdout",
     "output_type": "stream",
     "text": [
      "Python 3.8.16\n"
     ]
    }
   ],
   "source": [
    "%%bash\n",
    "python --version"
   ],
   "metadata": {
    "collapsed": false,
    "ExecuteTime": {
     "start_time": "2023-04-03T21:01:35.961441Z",
     "end_time": "2023-04-03T21:01:36.221849Z"
    }
   }
  },
  {
   "cell_type": "markdown",
   "source": [
    "If you don't have Python installed, you can download it from [here](https://www.python.org/downloads/).\n",
    "\n",
    "Next, you need to install the `requests` library which we'll use to make HTTP requests to the REST API. You can install it using pip. Open your command prompt or terminal and type the following command:"
   ],
   "metadata": {
    "collapsed": false
   }
  },
  {
   "cell_type": "code",
   "execution_count": 14,
   "outputs": [
    {
     "name": "stdout",
     "output_type": "stream",
     "text": [
      "Requirement already satisfied: requests in /Users/vkroz/miniconda3/envs/programming-first-steps/lib/python3.8/site-packages (2.28.2)\n",
      "Requirement already satisfied: idna<4,>=2.5 in /Users/vkroz/miniconda3/envs/programming-first-steps/lib/python3.8/site-packages (from requests) (3.4)\n",
      "Requirement already satisfied: urllib3<1.27,>=1.21.1 in /Users/vkroz/miniconda3/envs/programming-first-steps/lib/python3.8/site-packages (from requests) (1.26.15)\n",
      "Requirement already satisfied: charset-normalizer<4,>=2 in /Users/vkroz/miniconda3/envs/programming-first-steps/lib/python3.8/site-packages (from requests) (2.1.1)\n",
      "Requirement already satisfied: certifi>=2017.4.17 in /Users/vkroz/miniconda3/envs/programming-first-steps/lib/python3.8/site-packages (from requests) (2022.12.7)\n"
     ]
    }
   ],
   "source": [
    "%%bash\n",
    "pip install requests"
   ],
   "metadata": {
    "collapsed": false,
    "ExecuteTime": {
     "start_time": "2023-04-03T21:01:36.023839Z",
     "end_time": "2023-04-03T21:01:38.062647Z"
    }
   }
  },
  {
   "cell_type": "markdown",
   "source": [
    "## Now let's build the application\n",
    "\n",
    "First, lets define what we want to build. We will build a simple trivia game application. It will be a command-line application that will ask the user trivia questions and check if the user's answer is correct or not. We will use the Open Trivia API to fetch trivia questions. The application will fetch trivia questions from the Open Trivia API and display them to the user. The user will try to answer the questions and the application should check if the user's answer is correct or not. The application should also keep track of the user's score. Let's discuss the steps we need to take to build this application.\n",
    "We need to do the following things to build our application:\n",
    "1. Import the necessary modules\n",
    "2. Fetch trivia questions\n",
    "3. Display a random trivia question\n",
    "\n",
    "\n",
    "5. Create a function to get the user's answer\n",
    "6. Create a function to check the user's answer\n",
    "7. Create the main function to run the trivia game\n",
    "8. Run the trivia game\n",
    "9. Improve the application\n",
    "10. Bonus: Add a timer\n",
    "11. Bonus: Add a leaderboard\n",
    "12. Bonus: Add a category selector\n",
    "13. Bonus: Add a difficulty selector\n",
    "14. Bonus: Add a question type selector\n",
    "15. Bonus: Add a question counter\n",
    "16. Bonus: Add a score counter\n",
    "17. Bonus: Add a question counter\n",
    "\n",
    "Let's start building our application. In this chapter, we'll build the application step by step. We'll start with the first step and then move on to the next step. We'll also discuss the code for each step in detail."
   ],
   "metadata": {
    "collapsed": false
   }
  },
  {
   "cell_type": "markdown",
   "source": [
    "### Step 1: Import the necessary modules\n",
    "\n",
    "Let's discuss what are modules in Python, how to import them, and what modules we need to import to build our application. A module is a file that contains Python code. Modules can be imported into other modules using the `import` keyword. We can import modules that are part of the Python standard library or modules that we've written ourselves. We can also import modules that are installed using pip.\n",
    "\n",
    "Let's review the modules we need to import to build our application, and what purpose they serve:\n",
    "- `requests` module which we installed using pip earlier. We'll use this module to make HTTP requests to the Open Trivia API.\n",
    "- `json` module which is part of the Python standard library. We'll use this module to parse the JSON response from the API.\n",
    "- `random` module is also part of the Python standard library. We'll use this module to shuffle the options of multiple-choice questions, so they appear in a random order.\n",
    "\n",
    "Use code cell below to import the necessary modules."
   ],
   "metadata": {
    "collapsed": false
   }
  },
  {
   "cell_type": "code",
   "execution_count": 15,
   "outputs": [],
   "source": [
    "import requests\n",
    "import json\n",
    "import random"
   ],
   "metadata": {
    "collapsed": false,
    "ExecuteTime": {
     "start_time": "2023-04-03T21:01:38.057468Z",
     "end_time": "2023-04-03T21:01:38.062986Z"
    }
   }
  },
  {
   "cell_type": "markdown",
   "source": [
    "## Step 2: Fetch trivia questions\n",
    "In this step, we'll learn how to fetch trivia questions from the Open Trivia API using the requests library. We'll start by making a simple example of calling the API, and then we'll wrap this example in a function.\n",
    "\n",
    "### Calling REST APIs using `requests` library\n",
    "To fetch trivia questions from the Open Trivia API, we'll need to make an HTTP request to the API endpoint. We'll use the requests library to do this. First, make sure you have the library installed. If not, install it using the following command:"
   ],
   "metadata": {
    "collapsed": false
   }
  },
  {
   "cell_type": "code",
   "execution_count": 16,
   "outputs": [
    {
     "name": "stdout",
     "output_type": "stream",
     "text": [
      "[{'category': 'Entertainment: Music', 'type': 'boolean', 'difficulty': 'medium', 'question': 'Norwegian producer Kygo released a remix of the song &quot;Sexual Healing&quot; by Marvin Gaye.', 'correct_answer': 'True', 'incorrect_answers': ['False']}, {'category': 'General Knowledge', 'type': 'boolean', 'difficulty': 'easy', 'question': 'It is automatically considered entrapment in the United States if the police sell you illegal substances without revealing themselves.', 'correct_answer': 'False', 'incorrect_answers': ['True']}, {'category': 'Entertainment: Music', 'type': 'multiple', 'difficulty': 'medium', 'question': 'Which of these is the name of an American psychedelic rock band formed in 2002 by Benjamin Goldwasser and Andrew VanWyngarden?', 'correct_answer': 'MGMT', 'incorrect_answers': ['MSTRKRFT', 'STRFKR', 'SBTRKT']}, {'category': 'Science: Computers', 'type': 'multiple', 'difficulty': 'hard', 'question': 'What internet protocol was documented in RFC 1459?', 'correct_answer': 'IRC', 'incorrect_answers': ['HTTP', 'HTTPS', 'FTP']}, {'category': 'Entertainment: Video Games', 'type': 'multiple', 'difficulty': 'hard', 'question': 'Which of the following games in the The Legend of Zelda franchise was released in North America before Japan?', 'correct_answer': 'The Legend of Zelda: Twilight Princess', 'incorrect_answers': ['Zelda II: The Adventure of Link', 'The Legend of Zelda: Four Swords Adventures', 'The Legend of Zelda: Majora&#039;s Mask']}, {'category': 'History', 'type': 'multiple', 'difficulty': 'medium', 'question': 'Which country gifted the Statue of Liberty to the United States of America?', 'correct_answer': 'France', 'incorrect_answers': ['Spain', 'England', 'Germany']}, {'category': 'Animals', 'type': 'multiple', 'difficulty': 'hard', 'question': 'Which of the following is another name for the &quot;Poecilotheria Metallica Tarantula&quot;?', 'correct_answer': 'Gooty', 'incorrect_answers': ['Hopper', 'Silver Stripe', 'Woebegone']}, {'category': 'Entertainment: Board Games', 'type': 'multiple', 'difficulty': 'hard', 'question': 'The Dice Tower network of board game podcasts and videos is run by which individual?', 'correct_answer': 'Tom Vasel', 'incorrect_answers': ['Jason LeVine', 'Borth Sampson', 'Uncle Pennybags']}, {'category': 'Entertainment: Music', 'type': 'multiple', 'difficulty': 'medium', 'question': 'Which of these songs is NOT in The Beatles&#039; album &quot;Sgt. Pepper&#039;s Lonely Hearts Club Band&quot;?', 'correct_answer': 'Strawberry Fields Forever', 'incorrect_answers': ['Getting Better', 'Fixing a Hole', 'Lucy in the Sky with Diamonds']}, {'category': 'Entertainment: Video Games', 'type': 'multiple', 'difficulty': 'easy', 'question': 'How many obsidian blocks are required to build a nether portal in Minecraft?', 'correct_answer': '10', 'incorrect_answers': ['14', '13', '16']}]\n"
     ]
    }
   ],
   "source": [
    "\n",
    "# API endpoint to fetch trivia questions\n",
    "api_url = \"https://opentdb.com/api.php?amount=10\"\n",
    "\n",
    "# Make a GET request to the API\n",
    "response = requests.get(api_url)\n",
    "\n",
    "# Check if the request was successful (status code 200)\n",
    "if response.status_code == 200:\n",
    "    # Convert the response JSON to a Python dictionary\n",
    "    data = response.json()\n",
    "\n",
    "    # Print the fetched trivia questions\n",
    "    print(data['results'])\n",
    "else:\n",
    "    print(\"Error: Could not fetch trivia questions\")\n",
    "\n"
   ],
   "metadata": {
    "collapsed": false,
    "ExecuteTime": {
     "start_time": "2023-04-03T21:01:38.069075Z",
     "end_time": "2023-04-03T21:01:38.617109Z"
    }
   }
  },
  {
   "cell_type": "markdown",
   "source": [
    "The output you see above came from the API. It's a list of 10 trivia questions in the form of a Python dictionary. Each question has a category, difficulty, question, and answer. The answer can be a string or a list of strings. If the question is a multiple-choice question, the answer will be a list of strings. If the question is a true/false question, the answer will be a string.\n",
    "\n",
    "### Wrap the Example in a Function\n",
    "Now that we have a simple example of calling the Trivia API, let's wrap this code in a function that can be reused in our application. We'll call this function `fetch_trivia_questions`. Use the code cell below to define the function."
   ],
   "metadata": {
    "collapsed": false
   }
  },
  {
   "cell_type": "code",
   "execution_count": 17,
   "outputs": [
    {
     "name": "stdout",
     "output_type": "stream",
     "text": [
      "Question 1: In the &quot;Shrek&quot; film franchise, Donkey is played by Eddie Murphy.\n",
      "Question 2: The human right lung has how many lobes?\n",
      "Question 3: To the nearest whole number, how many radians are in a whole circle?\n",
      "Question 4: A flock of crows is known as a homicide.\n",
      "Question 5: Which of the following is not a real Pok&eacute;mon?\n",
      "Question 6: Which actress portrayed Dr. Grace Augustine in the James Cameron movie &quot;Avatar&quot;?\n",
      "Question 7: Which of the following rings from the DC Comics&#039; &quot;Lantern Corps&quot; are classified as Parasitic?\n",
      "Question 8: What was the name of Jonny&#039;s pet dog in The Adventures of Jonny Quest?\n",
      "Question 9: In the MMO RPG &quot;Realm of the Mad God&quot;, what class is known for having the highest possible defense?\n",
      "Question 10: Who is the victim mentioned in the second KG-8 incident, in Ace attorney Investigations, Case 4?\n"
     ]
    }
   ],
   "source": [
    "def fetch_trivia_questions(amount=10):\n",
    "    \"\"\"\n",
    "    Fetch trivia questions from the Open Trivia API.\n",
    "\n",
    "    Args:\n",
    "        amount (int): The number of trivia questions to fetch. Defaults to 10.\n",
    "\n",
    "    Returns:\n",
    "        list: A list of trivia questions, or an empty list if there was an error.\n",
    "    \"\"\"\n",
    "    # API endpoint to fetch trivia questions\n",
    "    api_url = f\"https://opentdb.com/api.php?amount={amount}\"\n",
    "\n",
    "    # Make a GET request to the API\n",
    "    response = requests.get(api_url)\n",
    "\n",
    "    # Check if the request was successful (status code 200)\n",
    "    if response.status_code == 200:\n",
    "        # Convert the response JSON to a Python dictionary\n",
    "        data = response.json()\n",
    "\n",
    "        # Return the fetched trivia questions\n",
    "        return data['results']\n",
    "    else:\n",
    "        print(\"Error: Could not fetch trivia questions\")\n",
    "        return []\n",
    "\n",
    "# Fetch trivia questions and display them nicely in the Jupyter notebook\n",
    "questions = fetch_trivia_questions()\n",
    "for idx, question in enumerate(questions):\n",
    "    print(f\"Question {idx + 1}: {question['question']}\")\n"
   ],
   "metadata": {
    "collapsed": false,
    "ExecuteTime": {
     "start_time": "2023-04-03T21:01:38.617825Z",
     "end_time": "2023-04-03T21:01:39.033149Z"
    }
   }
  },
  {
   "cell_type": "markdown",
   "source": [
    "Now we have a function, fetch_trivia_questions, that fetches trivia questions from the Open Trivia API and displays them. In the next step, we'll learn how to display a random trivia question to the user.\n",
    "\n",
    "\n"
   ],
   "metadata": {
    "collapsed": false
   }
  },
  {
   "cell_type": "markdown",
   "source": [
    "\n",
    "## Step 3: Display a random trivia question\n",
    "\n",
    "Now, when we know how to call Trivia API, we can learn how to use the fetched trivia questions in our application. We'll start by learning using random module to display a random trivia question to the user, and then we'll learn how to display the question and its possible answers to the user.\n",
    "\n",
    "### Using the random module\n",
    "The random module in Python provides various functions for generating random numbers and making random selections. Let's take a look at a few examples of using the random module to understand how it works.\n",
    "\n",
    "To use the `random` module, we need to import it first:"
   ],
   "metadata": {
    "collapsed": false
   }
  },
  {
   "cell_type": "code",
   "execution_count": 18,
   "outputs": [],
   "source": [
    "import random\n"
   ],
   "metadata": {
    "collapsed": false,
    "ExecuteTime": {
     "start_time": "2023-04-03T21:01:39.032365Z",
     "end_time": "2023-04-03T21:01:39.035613Z"
    }
   }
  },
  {
   "cell_type": "markdown",
   "source": [
    "1. Generate a random float between 0 and 1:"
   ],
   "metadata": {
    "collapsed": false
   }
  },
  {
   "cell_type": "code",
   "execution_count": 19,
   "outputs": [
    {
     "name": "stdout",
     "output_type": "stream",
     "text": [
      "0.809403116265366\n"
     ]
    }
   ],
   "source": [
    "random_float = random.random()\n",
    "print(random_float)"
   ],
   "metadata": {
    "collapsed": false,
    "ExecuteTime": {
     "start_time": "2023-04-03T21:01:39.037248Z",
     "end_time": "2023-04-03T21:01:39.042758Z"
    }
   }
  },
  {
   "cell_type": "markdown",
   "source": [
    "2. Generate a random integer between a given range (inclusive):"
   ],
   "metadata": {
    "collapsed": false
   }
  },
  {
   "cell_type": "code",
   "execution_count": 20,
   "outputs": [
    {
     "name": "stdout",
     "output_type": "stream",
     "text": [
      "6\n"
     ]
    }
   ],
   "source": [
    "random_integer = random.randint(1, 10)\n",
    "print(random_integer)"
   ],
   "metadata": {
    "collapsed": false,
    "ExecuteTime": {
     "start_time": "2023-04-03T21:01:39.041924Z",
     "end_time": "2023-04-03T21:01:39.047251Z"
    }
   }
  },
  {
   "cell_type": "markdown",
   "source": [
    "3. Choose a random element from a list:"
   ],
   "metadata": {
    "collapsed": false
   }
  },
  {
   "cell_type": "code",
   "execution_count": 21,
   "outputs": [
    {
     "name": "stdout",
     "output_type": "stream",
     "text": [
      "banana\n"
     ]
    }
   ],
   "source": [
    "my_list = ['apple', 'banana', 'cherry', 'date']\n",
    "random_element = random.choice(my_list)\n",
    "print(random_element)"
   ],
   "metadata": {
    "collapsed": false,
    "ExecuteTime": {
     "start_time": "2023-04-03T21:01:39.048198Z",
     "end_time": "2023-04-03T21:01:39.114649Z"
    }
   }
  },
  {
   "cell_type": "markdown",
   "source": [
    "4. Shuffle a list randomly:"
   ],
   "metadata": {
    "collapsed": false
   }
  },
  {
   "cell_type": "code",
   "execution_count": 22,
   "outputs": [
    {
     "name": "stdout",
     "output_type": "stream",
     "text": [
      "['apple', 'banana', 'cherry', 'date']\n"
     ]
    }
   ],
   "source": [
    "my_list = ['apple', 'banana', 'cherry', 'date']\n",
    "random.shuffle(my_list)\n",
    "print(my_list)"
   ],
   "metadata": {
    "collapsed": false,
    "ExecuteTime": {
     "start_time": "2023-04-03T21:01:39.056084Z",
     "end_time": "2023-04-03T21:01:39.129693Z"
    }
   }
  },
  {
   "cell_type": "markdown",
   "source": [
    "### Display a random trivia question\n",
    "\n",
    "Now that we know how to use the random module, let's use it to display a random trivia question to the user. We'll start by fetching trivia questions from the API, and then we'll use the random module to select a random question from the list of questions. Use the code cell below to fetch trivia questions and display a random question to the user.\n",
    "\n"
   ],
   "metadata": {
    "collapsed": false
   }
  },
  {
   "cell_type": "code",
   "execution_count": 28,
   "outputs": [],
   "source": [
    "def display_random_question():\n",
    "    # Fetch trivia questions\n",
    "    questions = fetch_trivia_questions()\n",
    "\n",
    "    # Choose a random question from the list of questions\n",
    "    question = random.choice(questions)\n",
    "\n",
    "    # Display the question\n",
    "    print(f\"Category: {question['category']}\")\n",
    "    print(f\"Difficulty: {question['difficulty']}\")\n",
    "    print(f\"Question: {question['question']}\")\n"
   ],
   "metadata": {
    "collapsed": false,
    "ExecuteTime": {
     "start_time": "2023-04-03T21:10:35.983515Z",
     "end_time": "2023-04-03T21:10:35.993856Z"
    }
   }
  },
  {
   "cell_type": "markdown",
   "source": [
    "Now, let's test our function by calling it. Use the code cell below to call the function."
   ],
   "metadata": {
    "collapsed": false
   }
  },
  {
   "cell_type": "code",
   "execution_count": 30,
   "outputs": [
    {
     "name": "stdout",
     "output_type": "stream",
     "text": [
      "Category: Entertainment: Video Games\n",
      "Difficulty: easy\n",
      "Question: What is the name of a popular franchise that includes placing blocks down and surviving in an open world? \n"
     ]
    }
   ],
   "source": [
    "display_random_question()\n"
   ],
   "metadata": {
    "collapsed": false,
    "ExecuteTime": {
     "start_time": "2023-04-03T21:11:25.585900Z",
     "end_time": "2023-04-03T21:11:26.001802Z"
    }
   }
  },
  {
   "cell_type": "markdown",
   "source": [
    "### Wrap the Example in a Function\n",
    "\n",
    "Now that we have a simple example of displaying a random trivia question to the user, let's wrap this code in a function that can be reused in our application. We'll call this function `display_random_question`. Use the code cell below to define the function."
   ],
   "metadata": {
    "collapsed": false
   }
  },
  {
   "cell_type": "code",
   "execution_count": null,
   "outputs": [],
   "source": [
    "def display_random_question():\n",
    "    # Fetch trivia questions\n",
    "    questions = fetch_trivia_questions()\n",
    "\n",
    "    # Choose a random question from the list of questions\n",
    "    question = random.choice(questions)\n",
    "\n",
    "    # Display the question\n",
    "    print(f\"Category: {question['category']}\")\n",
    "    print(f\"Difficulty: {question['difficulty']}\")\n",
    "    print(f\"Question: {question['question']}\")"
   ],
   "metadata": {
    "collapsed": false
   }
  },
  {
   "cell_type": "markdown",
   "source": [
    "### Display the question and its possible answers\n",
    "\n",
    "Now that we know how to display a random trivia question to the user, let's learn how to display the question and its possible answers to the user.\n",
    "We'll start by learning how to display the question and its possible answers to the user. We'll then learn how to validate the user's answer to ensure they've provided a valid answer.\n",
    "\n",
    "### Display the question and its possible answers\n",
    "\n",
    "To display the question and its possible answers to the user, we'll need to create a function called `display_question`. Use the code cell below to define the function."
   ],
   "metadata": {
    "collapsed": false
   }
  },
  {
   "cell_type": "code",
   "execution_count": 31,
   "outputs": [],
   "source": [
    "def display_question(question_data):\n",
    "    # Display the question\n",
    "    print(f\"Category: {question_data['category']}\")\n",
    "    print(f\"Difficulty: {question_data['difficulty']}\")\n",
    "    print(f\"Question: {question_data['question']}\")\n",
    "\n",
    "    # Display the possible answers\n",
    "    if question_data['type'] == 'boolean':\n",
    "        print(\"1. True\")\n",
    "        print(\"2. False\")\n",
    "    else:\n",
    "        for idx, answer in enumerate(question_data['incorrect_answers']):\n",
    "            print(f\"{idx + 1}. {answer}\")\n",
    "        print(f\"{len(question_data['incorrect_answers']) + 1}. {question_data['correct_answer']}\")\n",
    "\n"
   ],
   "metadata": {
    "collapsed": false,
    "ExecuteTime": {
     "start_time": "2023-04-03T21:13:26.302968Z",
     "end_time": "2023-04-03T21:13:26.310239Z"
    }
   }
  },
  {
   "cell_type": "markdown",
   "source": [
    "Now, let's test our function by calling it. Use the code cell below to call the function."
   ],
   "metadata": {
    "collapsed": false
   }
  },
  {
   "cell_type": "code",
   "execution_count": 33,
   "outputs": [
    {
     "name": "stdout",
     "output_type": "stream",
     "text": [
      "Category: Science & Nature\n",
      "Difficulty: easy\n",
      "Question: Igneous rocks are formed by excessive heat and pressure.\n",
      "1. True\n",
      "2. False\n"
     ]
    }
   ],
   "source": [
    "questions = fetch_trivia_questions()\n",
    "\n",
    "display_question(questions[0])\n"
   ],
   "metadata": {
    "collapsed": false,
    "ExecuteTime": {
     "start_time": "2023-04-03T21:16:07.241682Z",
     "end_time": "2023-04-03T21:16:07.673743Z"
    }
   }
  },
  {
   "cell_type": "markdown",
   "source": [
    "### Validate the user's answer\n",
    "\n",
    "Now that we know how to display the question and its possible answers to the user, let's learn how to validate the user's answer to ensure they've provided a valid answer.\n"
   ],
   "metadata": {
    "collapsed": false
   }
  },
  {
   "cell_type": "code",
   "execution_count": null,
   "outputs": [],
   "source": [
    "def get_user_answer(question_data):\n",
    "    answer_range = 2 if question_data['type'] == 'boolean' else len(question_data['incorrect_answers']) + 1\n",
    "    while True:\n",
    "        user_answer = input(\"Enter the number of your answer: \")\n",
    "        if user_answer.isdigit() and 1 <= int(user_answer) <= answer_range:\n",
    "            return int(user_answer)\n",
    "        else:\n",
    "            print(f\"Please enter a number between 1 and {answer_range}\")"
   ],
   "metadata": {
    "collapsed": false
   }
  },
  {
   "cell_type": "markdown",
   "source": [
    "Now, let's test our function by calling it. Use the code cell below to call the function."
   ],
   "metadata": {
    "collapsed": false
   }
  },
  {
   "cell_type": "code",
   "execution_count": null,
   "outputs": [],
   "source": [
    "questions = fetch_trivia_questions()\n",
    "\n",
    "display_question(questions[0])\n",
    "\n",
    "get_user_answer(questions[0])\n",
    "\n"
   ],
   "metadata": {
    "collapsed": false
   }
  },
  {
   "cell_type": "markdown",
   "source": [
    "Now that we know how to display a random trivia question to the user and validate the user's answer, let's learn how to check the user's answer and display the correct answer to the user."
   ],
   "metadata": {
    "collapsed": false
   }
  },
  {
   "cell_type": "markdown",
   "source": [
    "\n",
    "\n",
    "\n",
    "\n",
    "## Step 6: Create a function to get the user's answer\n",
    "We'll create a function called `get_user_answer` that takes the user's input and validates it to ensure they've provided a valid answer.\n"
   ],
   "metadata": {
    "collapsed": false
   }
  },
  {
   "cell_type": "code",
   "execution_count": 24,
   "outputs": [],
   "source": [
    "def get_user_answer(question_data):\n",
    "    answer_range = 2 if question_data['type'] == 'boolean' else len(question_data['incorrect_answers']) + 1\n",
    "    while True:\n",
    "        user_answer = input(\"Enter the number of your answer: \")\n",
    "        if user_answer.isdigit() and 1 <= int(user_answer) <= answer_range:\n",
    "            return int(user_answer)\n",
    "        else:\n",
    "            print(f\"Please enter a number between 1 and {answer_range}\")\n"
   ],
   "metadata": {
    "collapsed": false,
    "ExecuteTime": {
     "start_time": "2023-04-03T21:01:39.070597Z",
     "end_time": "2023-04-03T21:01:39.130210Z"
    }
   }
  },
  {
   "cell_type": "markdown",
   "source": [],
   "metadata": {
    "collapsed": false
   }
  },
  {
   "cell_type": "markdown",
   "source": [
    "\n",
    "\n",
    "\n",
    "## Step 7: Create a function to check the user's answer\n",
    "Now, we'll create a function called check_answer that takes the user's answer, the question data, and a reference to the displayed options. It checks if the user's answer is correct and returns a boolean value."
   ],
   "metadata": {
    "collapsed": false
   }
  },
  {
   "cell_type": "code",
   "execution_count": 25,
   "outputs": [],
   "source": [
    "def check_answer(user_answer, question_data):\n",
    "    correct_answer = question_data['correct_answer']\n",
    "    if question_data['type'] == 'multiple':\n",
    "        options = question_data['incorrect_answers'] + [correct_answer]\n",
    "        random.shuffle(options)\n",
    "        if options[user_answer - 1] == correct_answer:\n",
    "            return True\n",
    "    else:\n",
    "        if (user_answer == 1 and correct_answer == 'True') or (user_answer == 2 and correct_answer == 'False'):\n",
    "            return True\n",
    "    return False\n"
   ],
   "metadata": {
    "collapsed": false,
    "ExecuteTime": {
     "start_time": "2023-04-03T21:01:39.075636Z",
     "end_time": "2023-04-03T21:01:39.130570Z"
    }
   }
  },
  {
   "cell_type": "markdown",
   "source": [
    "## Step 8: Create the main function to run the trivia game\n",
    "Finally, let's create the main function run_trivia_game that puts everything together and runs the trivia game."
   ],
   "metadata": {
    "collapsed": false
   }
  },
  {
   "cell_type": "code",
   "execution_count": 26,
   "outputs": [],
   "source": [
    "def run_trivia_game():\n",
    "    questions = fetch_trivia_questions()\n",
    "    score = 0\n",
    "\n",
    "    for question_data in questions:\n",
    "        display_question(question_data)\n",
    "        user_answer = get_user_answer(question_data)\n",
    "\n",
    "        if question_data['type'] == 'multiple':\n",
    "            options = question_data['incorrect_answers'] + [question_data['correct_answer']]\n",
    "            random.shuffle(options)\n",
    "        else:\n",
    "            options = None\n",
    "\n",
    "        is_correct = check_answer(user_answer, question_data, options)\n",
    "        if is_correct:\n",
    "            print(\"Correct!\")\n",
    "            score += 1\n",
    "        else:\n",
    "            print(f\"Sorry, the correct answer was: {question_data['correct_answer']}\")\n",
    "\n",
    "        print(\"\\n\")\n",
    "\n",
    "    print(f\"Your final score is {score}/{len(questions)}\")\n"
   ],
   "metadata": {
    "collapsed": false,
    "ExecuteTime": {
     "start_time": "2023-04-03T21:01:39.082339Z",
     "end_time": "2023-04-03T21:01:39.130782Z"
    }
   }
  },
  {
   "cell_type": "markdown",
   "source": [
    "## Step 9: Running the game\n",
    "Now, let's run the game by calling the `run_trivia_game` function.\n"
   ],
   "metadata": {
    "collapsed": false
   }
  },
  {
   "cell_type": "code",
   "execution_count": 27,
   "outputs": [
    {
     "name": "stdout",
     "output_type": "stream",
     "text": [
      "Category: History\n",
      "Difficulty: easy\n",
      "Question: Which one of these tanks was designed and operated by the United Kingdom?\n",
      "1. M4 Sherman\n",
      "2. Tog II\n",
      "3. Tiger H1\n",
      "4. T-34\n"
     ]
    },
    {
     "ename": "TypeError",
     "evalue": "check_answer() takes 2 positional arguments but 3 were given",
     "output_type": "error",
     "traceback": [
      "\u001B[0;31m---------------------------------------------------------------------------\u001B[0m",
      "\u001B[0;31mTypeError\u001B[0m                                 Traceback (most recent call last)",
      "Cell \u001B[0;32mIn[27], line 1\u001B[0m\n\u001B[0;32m----> 1\u001B[0m \u001B[43mrun_trivia_game\u001B[49m\u001B[43m(\u001B[49m\u001B[43m)\u001B[49m\n",
      "Cell \u001B[0;32mIn[26], line 15\u001B[0m, in \u001B[0;36mrun_trivia_game\u001B[0;34m()\u001B[0m\n\u001B[1;32m     12\u001B[0m \u001B[38;5;28;01melse\u001B[39;00m:\n\u001B[1;32m     13\u001B[0m     options \u001B[38;5;241m=\u001B[39m \u001B[38;5;28;01mNone\u001B[39;00m\n\u001B[0;32m---> 15\u001B[0m is_correct \u001B[38;5;241m=\u001B[39m \u001B[43mcheck_answer\u001B[49m\u001B[43m(\u001B[49m\u001B[43muser_answer\u001B[49m\u001B[43m,\u001B[49m\u001B[43m \u001B[49m\u001B[43mquestion_data\u001B[49m\u001B[43m,\u001B[49m\u001B[43m \u001B[49m\u001B[43moptions\u001B[49m\u001B[43m)\u001B[49m\n\u001B[1;32m     16\u001B[0m \u001B[38;5;28;01mif\u001B[39;00m is_correct:\n\u001B[1;32m     17\u001B[0m     \u001B[38;5;28mprint\u001B[39m(\u001B[38;5;124m\"\u001B[39m\u001B[38;5;124mCorrect!\u001B[39m\u001B[38;5;124m\"\u001B[39m)\n",
      "\u001B[0;31mTypeError\u001B[0m: check_answer() takes 2 positional arguments but 3 were given"
     ]
    }
   ],
   "source": [
    "run_trivia_game()\n",
    "\n"
   ],
   "metadata": {
    "collapsed": false
   }
  },
  {
   "cell_type": "markdown",
   "source": [
    "When you run this cell, you'll see the trivia questions one by one, along with their possible answers. Enter the number of your chosen answer and press \"Enter\". The game will tell you whether your answer was correct or not, and then proceed to the next question. Once all the questions are answered, you'll see your final score.\n",
    "\n",
    "Feel free to modify the fetch_trivia_questions function parameters to customize the number of questions, category, difficulty, and question type according to your preferences.\n",
    "\n",
    "That's it! You've successfully built a simple trivia game using Python and the Open Trivia API in a Jupyter Notebook. You can now explore other REST APIs and create more interesting applications using the same principles.\n"
   ],
   "metadata": {
    "collapsed": false
   }
  }
 ],
 "metadata": {
  "kernelspec": {
   "display_name": "Python 3",
   "language": "python",
   "name": "python3"
  },
  "language_info": {
   "codemirror_mode": {
    "name": "ipython",
    "version": 2
   },
   "file_extension": ".py",
   "mimetype": "text/x-python",
   "name": "python",
   "nbconvert_exporter": "python",
   "pygments_lexer": "ipython2",
   "version": "2.7.6"
  }
 },
 "nbformat": 4,
 "nbformat_minor": 0
}
