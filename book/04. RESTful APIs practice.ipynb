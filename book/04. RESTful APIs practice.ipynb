{
 "cells": [
  {
   "cell_type": "markdown",
   "source": [
    "# Let's use REST to build some cool stuff\n",
    "\n"
   ],
   "metadata": {
    "collapsed": false
   }
  },
  {
   "cell_type": "markdown",
   "source": [
    "Now, after you learned about REST APIs, let's use them to build some simple but cool stuff.\n",
    "We'll build an application that provides trivia questions to the user.\n",
    "To do this, we'll build a small application that interacts with the Open Trivia API, a free public REST API that provides trivia questions.\n",
    "The Python code below demonstrates how to interact with the Open Trivia API to fetch and show a list of trivia questions."
   ],
   "metadata": {
    "collapsed": false
   }
  },
  {
   "cell_type": "markdown",
   "source": [
    "## Step 1: Install the required library\n",
    "First, we need to install the `requests` library which we'll use to make HTTP requests to the REST API. You can install it using pip. Open your command prompt or terminal and type the following command:"
   ],
   "metadata": {
    "collapsed": false
   }
  },
  {
   "cell_type": "code",
   "execution_count": 1,
   "outputs": [
    {
     "name": "stdout",
     "output_type": "stream",
     "text": [
      "Requirement already satisfied: requests in /Users/vkroz/miniconda3/envs/programming-first-steps/lib/python3.8/site-packages (2.28.2)\n",
      "Requirement already satisfied: urllib3<1.27,>=1.21.1 in /Users/vkroz/miniconda3/envs/programming-first-steps/lib/python3.8/site-packages (from requests) (1.26.15)\n",
      "Requirement already satisfied: certifi>=2017.4.17 in /Users/vkroz/miniconda3/envs/programming-first-steps/lib/python3.8/site-packages (from requests) (2022.12.7)\n",
      "Requirement already satisfied: idna<4,>=2.5 in /Users/vkroz/miniconda3/envs/programming-first-steps/lib/python3.8/site-packages (from requests) (3.4)\n",
      "Requirement already satisfied: charset-normalizer<4,>=2 in /Users/vkroz/miniconda3/envs/programming-first-steps/lib/python3.8/site-packages (from requests) (2.1.1)\n"
     ]
    }
   ],
   "source": [
    "%%bash\n",
    "pip install requests"
   ],
   "metadata": {
    "collapsed": false
   }
  },
  {
   "cell_type": "markdown",
   "source": [
    "## Step 2: Import the necessary modules\n",
    "Create a new Python file called `trivia_app.py`. In this file, import the `requests` library, `json`, and `random`.\n",
    "\n"
   ],
   "metadata": {
    "collapsed": false
   }
  },
  {
   "cell_type": "code",
   "execution_count": 2,
   "outputs": [],
   "source": [
    "import requests\n",
    "import json\n",
    "import random"
   ],
   "metadata": {
    "collapsed": false
   }
  },
  {
   "cell_type": "markdown",
   "source": [
    "## Step 3: Define the API URL\n",
    "Define the URL of the Open Trivia API that we'll be using to fetch trivia questions. We will use a variable called API_URL to store it."
   ],
   "metadata": {
    "collapsed": false
   }
  },
  {
   "cell_type": "code",
   "execution_count": 3,
   "outputs": [],
   "source": [
    "API_URL = \"https://opentdb.com/api.php\""
   ],
   "metadata": {
    "collapsed": false
   }
  },
  {
   "cell_type": "markdown",
   "source": [
    "## Step 4: Fetch trivia questions\n",
    "Next, we'll create a function called `fetch_trivia_questions` that fetches trivia questions from the API."
   ],
   "metadata": {
    "collapsed": false
   }
  },
  {
   "cell_type": "code",
   "execution_count": 4,
   "outputs": [],
   "source": [
    "def fetch_trivia_questions(amount=10, category=None, difficulty=None, type=None):\n",
    "    parameters = {\n",
    "        \"amount\": amount,\n",
    "        \"category\": category,\n",
    "        \"difficulty\": difficulty,\n",
    "        \"type\": type\n",
    "    }\n",
    "    response = requests.get(API_URL, params=parameters)\n",
    "    data = json.loads(response.text)\n",
    "    return data[\"results\"]\n"
   ],
   "metadata": {
    "collapsed": false
   }
  },
  {
   "cell_type": "markdown",
   "source": [
    "This function accepts optional parameters such as the number of questions (amount), category, difficulty, and question type (multiple choice or true/false). It makes an HTTP GET request to the API with these parameters and returns the list of trivia questions in the form of JSON object.\n",
    "\n",
    "\n"
   ],
   "metadata": {
    "collapsed": false
   }
  },
  {
   "cell_type": "markdown",
   "source": [
    "\n",
    "## Step 5: Display a random trivia question\n",
    "Now, we'll create a function called `display_question` that takes a trivia question as an argument and displays the question and its possible answers to the user. For multiple-choice questions, we'll shuffle the options so they appear in a random order.\n"
   ],
   "metadata": {
    "collapsed": false
   }
  },
  {
   "cell_type": "code",
   "execution_count": 6,
   "outputs": [],
   "source": [
    "def display_question(question_data):\n",
    "    print(f\"Category: {question_data['category']}\")\n",
    "    print(f\"Difficulty: {question_data['difficulty']}\")\n",
    "    print(f\"Question: {question_data['question']}\")\n",
    "\n",
    "    if question_data['type'] == 'multiple':\n",
    "        options = question_data['incorrect_answers'] + [question_data['correct_answer']]\n",
    "        random.shuffle(options)\n",
    "        for idx, option in enumerate(options, start=1):\n",
    "            print(f\"{idx}. {option}\")\n",
    "    else:\n",
    "        print(\"1. True\\n2. False\")\n"
   ],
   "metadata": {
    "collapsed": false
   }
  },
  {
   "cell_type": "markdown",
   "source": [
    "## Step 6: Create a function to get the user's answer\n",
    "We'll create a function called `get_user_answer` that takes the user's input and validates it to ensure they've provided a valid answer.\n"
   ],
   "metadata": {
    "collapsed": false
   }
  },
  {
   "cell_type": "code",
   "execution_count": 5,
   "outputs": [],
   "source": [
    "def get_user_answer(question_data):\n",
    "    answer_range = 2 if question_data['type'] == 'boolean' else len(question_data['incorrect_answers']) + 1\n",
    "    while True:\n",
    "        user_answer = input(\"Enter the number of your answer: \")\n",
    "        if user_answer.isdigit() and 1 <= int(user_answer) <= answer_range:\n",
    "            return int(user_answer)\n",
    "        else:\n",
    "            print(f\"Please enter a number between 1 and {answer_range}\")\n"
   ],
   "metadata": {
    "collapsed": false
   }
  },
  {
   "cell_type": "markdown",
   "source": [],
   "metadata": {
    "collapsed": false
   }
  },
  {
   "cell_type": "markdown",
   "source": [
    "## Step 7: Create a function to check the user's answer\n",
    "Now, we'll create a function called check_answer that takes the user's answer, the question data, and a reference to the displayed options. It checks if the user's answer is correct and returns a boolean value."
   ],
   "metadata": {
    "collapsed": false
   }
  },
  {
   "cell_type": "code",
   "execution_count": 9,
   "outputs": [],
   "source": [
    "def check_answer(user_answer, question_data):\n",
    "    correct_answer = question_data['correct_answer']\n",
    "    if question_data['type'] == 'multiple':\n",
    "        options = question_data['incorrect_answers'] + [correct_answer]\n",
    "        random.shuffle(options)\n",
    "        if options[user_answer - 1] == correct_answer:\n",
    "            return True\n",
    "    else:\n",
    "        if (user_answer == 1 and correct_answer == 'True') or (user_answer == 2 and correct_answer == 'False'):\n",
    "            return True\n",
    "    return False\n"
   ],
   "metadata": {
    "collapsed": false
   }
  },
  {
   "cell_type": "markdown",
   "source": [
    "## Step 8: Create the main function to run the trivia game\n",
    "Finally, let's create the main function run_trivia_game that puts everything together and runs the trivia game."
   ],
   "metadata": {
    "collapsed": false
   }
  },
  {
   "cell_type": "code",
   "execution_count": 11,
   "outputs": [],
   "source": [
    "def run_trivia_game():\n",
    "    questions = fetch_trivia_questions()\n",
    "    score = 0\n",
    "\n",
    "    for question_data in questions:\n",
    "        display_question(question_data)\n",
    "        user_answer = get_user_answer(question_data)\n",
    "\n",
    "        if question_data['type'] == 'multiple':\n",
    "            options = question_data['incorrect_answers'] + [question_data['correct_answer']]\n",
    "            random.shuffle(options)\n",
    "        else:\n",
    "            options = None\n",
    "\n",
    "        is_correct = check_answer(user_answer, question_data, options)\n",
    "        if is_correct:\n",
    "            print(\"Correct!\")\n",
    "            score += 1\n",
    "        else:\n",
    "            print(f\"Sorry, the correct answer was: {question_data['correct_answer']}\")\n",
    "\n",
    "        print(\"\\n\")\n",
    "\n",
    "    print(f\"Your final score is {score}/{len(questions)}\")\n"
   ],
   "metadata": {
    "collapsed": false
   }
  },
  {
   "cell_type": "markdown",
   "source": [
    "## Step 9: Running the game\n",
    "Now, let's run the game by calling the `run_trivia_game` function.\n"
   ],
   "metadata": {
    "collapsed": false
   }
  },
  {
   "cell_type": "code",
   "execution_count": 12,
   "outputs": [
    {
     "name": "stdout",
     "output_type": "stream",
     "text": [
      "Category: Celebrities\n",
      "Difficulty: medium\n",
      "Question: Paul McCartney has always used his middle name. What is his real first name? \n",
      "1. Jack\n",
      "2. John\n",
      "3. Justin\n",
      "4. James\n"
     ]
    },
    {
     "ename": "TypeError",
     "evalue": "check_answer() takes 2 positional arguments but 3 were given",
     "output_type": "error",
     "traceback": [
      "\u001B[0;31m---------------------------------------------------------------------------\u001B[0m",
      "\u001B[0;31mTypeError\u001B[0m                                 Traceback (most recent call last)",
      "Cell \u001B[0;32mIn[12], line 1\u001B[0m\n\u001B[0;32m----> 1\u001B[0m \u001B[43mrun_trivia_game\u001B[49m\u001B[43m(\u001B[49m\u001B[43m)\u001B[49m\n",
      "Cell \u001B[0;32mIn[11], line 15\u001B[0m, in \u001B[0;36mrun_trivia_game\u001B[0;34m()\u001B[0m\n\u001B[1;32m     12\u001B[0m \u001B[38;5;28;01melse\u001B[39;00m:\n\u001B[1;32m     13\u001B[0m     options \u001B[38;5;241m=\u001B[39m \u001B[38;5;28;01mNone\u001B[39;00m\n\u001B[0;32m---> 15\u001B[0m is_correct \u001B[38;5;241m=\u001B[39m \u001B[43mcheck_answer\u001B[49m\u001B[43m(\u001B[49m\u001B[43muser_answer\u001B[49m\u001B[43m,\u001B[49m\u001B[43m \u001B[49m\u001B[43mquestion_data\u001B[49m\u001B[43m,\u001B[49m\u001B[43m \u001B[49m\u001B[43moptions\u001B[49m\u001B[43m)\u001B[49m\n\u001B[1;32m     16\u001B[0m \u001B[38;5;28;01mif\u001B[39;00m is_correct:\n\u001B[1;32m     17\u001B[0m     \u001B[38;5;28mprint\u001B[39m(\u001B[38;5;124m\"\u001B[39m\u001B[38;5;124mCorrect!\u001B[39m\u001B[38;5;124m\"\u001B[39m)\n",
      "\u001B[0;31mTypeError\u001B[0m: check_answer() takes 2 positional arguments but 3 were given"
     ]
    }
   ],
   "source": [
    "run_trivia_game()\n",
    "\n"
   ],
   "metadata": {
    "collapsed": false
   }
  },
  {
   "cell_type": "markdown",
   "source": [
    "When you run this cell, you'll see the trivia questions one by one, along with their possible answers. Enter the number of your chosen answer and press \"Enter\". The game will tell you whether your answer was correct or not, and then proceed to the next question. Once all the questions are answered, you'll see your final score.\n",
    "\n",
    "Feel free to modify the fetch_trivia_questions function parameters to customize the number of questions, category, difficulty, and question type according to your preferences.\n",
    "\n",
    "That's it! You've successfully built a simple trivia game using Python and the Open Trivia API in a Jupyter Notebook. You can now explore other REST APIs and create more interesting applications using the same principles.\n"
   ],
   "metadata": {
    "collapsed": false
   }
  }
 ],
 "metadata": {
  "kernelspec": {
   "display_name": "Python 3",
   "language": "python",
   "name": "python3"
  },
  "language_info": {
   "codemirror_mode": {
    "name": "ipython",
    "version": 2
   },
   "file_extension": ".py",
   "mimetype": "text/x-python",
   "name": "python",
   "nbconvert_exporter": "python",
   "pygments_lexer": "ipython2",
   "version": "2.7.6"
  }
 },
 "nbformat": 4,
 "nbformat_minor": 0
}
